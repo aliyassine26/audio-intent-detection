{
 "cells": [
  {
   "attachments": {},
   "cell_type": "markdown",
   "metadata": {},
   "source": [
    "Import used libraries"
   ]
  },
  {
   "cell_type": "code",
   "execution_count": 2,
   "metadata": {},
   "outputs": [],
   "source": [
    "import numpy as np\n",
    "import pandas as pd\n",
    "import matplotlib.pyplot as plt\n",
    "from scipy.io.wavfile import read \n",
    "from sklearn.preprocessing import StandardScaler, LabelEncoder\n",
    "from sklearn.decomposition import PCA\n",
    "from sklearn.model_selection import train_test_split, GridSearchCV\n",
    "from sklearn.ensemble import RandomForestClassifier\n",
    "from sklearn.svm import SVC\n",
    "from sklearn import svm\n",
    "from sklearn.metrics import accuracy_score, precision_score, recall_score, f1_score, roc_auc_score\n",
    "from algorithms import get_features, plot_durations, get_audio, get_trim, pad_audio\n",
    "import encode_dict_data \n",
    "import os\n",
    "import math\n",
    "import time"
   ]
  },
  {
   "attachments": {},
   "cell_type": "markdown",
   "metadata": {},
   "source": [
    "Indicate audios path and read CSVs to get features for both development and evaluation datasets"
   ]
  },
  {
   "cell_type": "code",
   "execution_count": 3,
   "metadata": {},
   "outputs": [],
   "source": [
    "# Storing the addresses in corresponding variables\n",
    "data_path = \"dsl_data/development.csv\"\n",
    "evaluation_path = \"dsl_data/evaluation.csv\"\n",
    "\n",
    "# Importing development and evaluation data from csv files\n",
    "df = pd.read_csv(data_path)\n",
    "evaluation_df = pd.read_csv(evaluation_path)"
   ]
  },
  {
   "attachments": {},
   "cell_type": "markdown",
   "metadata": {},
   "source": [
    "Analyze Data"
   ]
  },
  {
   "cell_type": "code",
   "execution_count": 4,
   "metadata": {},
   "outputs": [
    {
     "name": "stdout",
     "output_type": "stream",
     "text": [
      "Unique values of current language: ['English (United States)']\n",
      "Unique values of first language: ['English (United States)']\n",
      "Unique values of fluency level: ['native']\n"
     ]
    }
   ],
   "source": [
    "# Discover that evaluation data only contains English (United States) and Native speakers\n",
    "print(\"Unique values of current language:\",evaluation_df['Current language used for work/school'].unique())\n",
    "print(\"Unique values of first language:\",evaluation_df['First Language spoken'].unique())\n",
    "print(\"Unique values of fluency level:\",evaluation_df['Self-reported fluency level '].unique())\n"
   ]
  },
  {
   "attachments": {},
   "cell_type": "markdown",
   "metadata": {},
   "source": [
    "Remove data considered as \"noise\", rows where first & current language is not English (United States) and fluency is not native"
   ]
  },
  {
   "cell_type": "code",
   "execution_count": 5,
   "metadata": {},
   "outputs": [],
   "source": [
    "modified_df = df[df['First Language spoken'] == 'English (United States)']\n",
    "modified_df = modified_df[modified_df['Current language used for work/school'] == 'English (United States)']\n",
    "modified_df = modified_df[modified_df['Self-reported fluency level '] == 'native']\n",
    "\n",
    "df = modified_df"
   ]
  },
  {
   "attachments": {},
   "cell_type": "markdown",
   "metadata": {},
   "source": [
    "Label Encoding (Development & Evaluation)\n",
    " \n",
    "transform categorical data into numerical values since sklearn doesn't accept strings"
   ]
  },
  {
   "cell_type": "code",
   "execution_count": 6,
   "metadata": {},
   "outputs": [],
   "source": [
    "# Label Encoding\n",
    "\n",
    "le_mapping = {}\n",
    "encoding_columns = ['Self-reported fluency level ','First Language spoken','Current language used for work/school','ageRange','gender']\n",
    "\n",
    "# Encode DEVELOPMENT DATA \n",
    "for col in encoding_columns:\n",
    "    le = LabelEncoder()\n",
    "    df[col] = le.fit_transform(df[col])\n",
    "    le_mapping[col] = dict(zip(le.classes_, le.transform(le.classes_)))\n",
    "\n",
    "# Encode EVALUATION DATA TOO\n",
    "for col, mapping in le_mapping.items():\n",
    "    evaluation_df[col] = evaluation_df[col].map(mapping)"
   ]
  },
  {
   "attachments": {},
   "cell_type": "markdown",
   "metadata": {},
   "source": [
    "Label Decoding (if needed)"
   ]
  },
  {
   "cell_type": "code",
   "execution_count": null,
   "metadata": {},
   "outputs": [],
   "source": [
    "# Decoding \n",
    "\n",
    "# for col, mapping in le_mapping.items():\n",
    "#     df[col] = df[col].map(mapping)"
   ]
  },
  {
   "attachments": {},
   "cell_type": "markdown",
   "metadata": {},
   "source": [
    "Combine \"action\" & \"object\" in one dataframe column "
   ]
  },
  {
   "cell_type": "code",
   "execution_count": 7,
   "metadata": {},
   "outputs": [],
   "source": [
    "df[\"action-object\"] = df['action'].astype(str) +\"-\"+ df[\"object\"]\n"
   ]
  },
  {
   "attachments": {},
   "cell_type": "markdown",
   "metadata": {},
   "source": [
    "Load audio files (.wav)\n",
    "\n",
    "used to load audio files at specific path and return the waveform as a numpy array data, along with the sample rate"
   ]
  },
  {
   "cell_type": "code",
   "execution_count": null,
   "metadata": {},
   "outputs": [],
   "source": [
    "df = df.join(df['path'].apply(get_audio))\n",
    "evaluation_df = evaluation_df.join(evaluation_df['path'].apply(get_audio))"
   ]
  },
  {
   "attachments": {},
   "cell_type": "markdown",
   "metadata": {},
   "source": [
    "Trim audio files\n",
    "\n",
    "reduce the duration of audio files by removing part of each audio signal that contains silence or \"noise\""
   ]
  },
  {
   "cell_type": "code",
   "execution_count": null,
   "metadata": {},
   "outputs": [],
   "source": [
    "df = df.join(df[['data', 'sample_rate']].apply(get_trim, axis=1))\n",
    "evaluation_df = evaluation_df.join(evaluation_df[['data', 'sample_rate']].apply(get_trim, axis=1))\n",
    "\n",
    "# Exract maximum length to use in padding later\n",
    "max_development = df['duration_trim'].max()\n",
    "max_evaluation = evaluation_df['duration_trim'].max()\n",
    "maximum_duration = np.maximum(max_development, max_evaluation)\n",
    "print(f\"Maximum duration in both sets: {maximum_duration}s\")\n",
    "maximum_duration = math.ceil(maximum_duration)\n",
    "print(f\"Ceil maximum duration in both sets: {maximum_duration}s\")"
   ]
  },
  {
   "attachments": {},
   "cell_type": "markdown",
   "metadata": {},
   "source": [
    "Pad audio files to max audio length in both sets\n",
    "\n",
    "adds silence (zero values) to the audio signals to make all audio signals same fixed length"
   ]
  },
  {
   "cell_type": "code",
   "execution_count": null,
   "metadata": {},
   "outputs": [],
   "source": [
    "df = df.join(df.apply(lambda x: pad_audio(x['data_trim'], x['sample_rate'],maximum_duration), axis=1))\n",
    "evaluation_df = evaluation_df.join(evaluation_df.apply(lambda x: pad_audio(x['data_trim'], x['sample_rate'],maximum_duration), axis=1))"
   ]
  },
  {
   "attachments": {},
   "cell_type": "markdown",
   "metadata": {},
   "source": [
    "Extract Features"
   ]
  },
  {
   "attachments": {},
   "cell_type": "markdown",
   "metadata": {},
   "source": [
    "Apply get_features function to extract features from audio files and trim silence from beggining and end of each audio file\n",
    "(Done together to reduce complexity)"
   ]
  },
  {
   "cell_type": "code",
   "execution_count": null,
   "metadata": {},
   "outputs": [],
   "source": [
    "df = df.join(df.apply(lambda x: get_features(x['data_trim'], x['sample_rate']), axis=1))\n",
    "evaluation_df = evaluation_df.join(evaluation_df.apply(lambda x: get_features(x['data_trim'], x['sample_rate']), axis=1))\n",
    "\n",
    "# # Save extracted features in csv files to avoid repeating steps \n",
    "df.to_csv('save_csv/training2.csv')\n",
    "evaluation_df.to_csv('save_csv/evaluation2.csv')"
   ]
  },
  {
   "attachments": {},
   "cell_type": "markdown",
   "metadata": {},
   "source": [
    "OR get features from previously saved csv files to prevent loading and extracting features again"
   ]
  },
  {
   "cell_type": "code",
   "execution_count": 38,
   "metadata": {},
   "outputs": [],
   "source": [
    "# # Import dataframes from previously saved csv files so we don't need to get features again\n",
    "\n",
    "df = pd.read_csv(r'save_csv/training2.csv').iloc[:,1:]\n",
    "evaluation_df = pd.read_csv(r'save_csv/evaluation2.csv').iloc[:,1:]\n"
   ]
  },
  {
   "cell_type": "code",
   "execution_count": 39,
   "metadata": {},
   "outputs": [
    {
     "data": {
      "text/html": [
       "<div>\n",
       "<style scoped>\n",
       "    .dataframe tbody tr th:only-of-type {\n",
       "        vertical-align: middle;\n",
       "    }\n",
       "\n",
       "    .dataframe tbody tr th {\n",
       "        vertical-align: top;\n",
       "    }\n",
       "\n",
       "    .dataframe thead th {\n",
       "        text-align: right;\n",
       "    }\n",
       "</style>\n",
       "<table border=\"1\" class=\"dataframe\">\n",
       "  <thead>\n",
       "    <tr style=\"text-align: right;\">\n",
       "      <th></th>\n",
       "      <th>Id</th>\n",
       "      <th>path</th>\n",
       "      <th>speakerId</th>\n",
       "      <th>action</th>\n",
       "      <th>object</th>\n",
       "      <th>Self-reported fluency level</th>\n",
       "      <th>First Language spoken</th>\n",
       "      <th>Current language used for work/school</th>\n",
       "      <th>gender</th>\n",
       "      <th>ageRange</th>\n",
       "      <th>...</th>\n",
       "      <th>968</th>\n",
       "      <th>969</th>\n",
       "      <th>970</th>\n",
       "      <th>971</th>\n",
       "      <th>972</th>\n",
       "      <th>973</th>\n",
       "      <th>974</th>\n",
       "      <th>975</th>\n",
       "      <th>976</th>\n",
       "      <th>977</th>\n",
       "    </tr>\n",
       "  </thead>\n",
       "  <tbody>\n",
       "    <tr>\n",
       "      <th>0</th>\n",
       "      <td>106</td>\n",
       "      <td>dsl_data/audio/speakers/2ojo7YRL7Gck83Z3/3e7e4...</td>\n",
       "      <td>2ojo7YRL7Gck83Z3</td>\n",
       "      <td>deactivate</td>\n",
       "      <td>lights</td>\n",
       "      <td>0</td>\n",
       "      <td>0</td>\n",
       "      <td>0</td>\n",
       "      <td>0</td>\n",
       "      <td>0</td>\n",
       "      <td>...</td>\n",
       "      <td>6.396494e-08</td>\n",
       "      <td>1.014894e-07</td>\n",
       "      <td>1.193709e-07</td>\n",
       "      <td>2.390989e-07</td>\n",
       "      <td>3.414445e-07</td>\n",
       "      <td>2.453299e-07</td>\n",
       "      <td>4.460065e-08</td>\n",
       "      <td>1.093370e-08</td>\n",
       "      <td>6.335365e-10</td>\n",
       "      <td>5.685474e-12</td>\n",
       "    </tr>\n",
       "    <tr>\n",
       "      <th>1</th>\n",
       "      <td>107</td>\n",
       "      <td>dsl_data/audio/speakers/2ojo7YRL7Gck83Z3/4136f...</td>\n",
       "      <td>2ojo7YRL7Gck83Z3</td>\n",
       "      <td>change language</td>\n",
       "      <td>none</td>\n",
       "      <td>0</td>\n",
       "      <td>0</td>\n",
       "      <td>0</td>\n",
       "      <td>0</td>\n",
       "      <td>0</td>\n",
       "      <td>...</td>\n",
       "      <td>5.256315e-07</td>\n",
       "      <td>4.872966e-07</td>\n",
       "      <td>3.301417e-07</td>\n",
       "      <td>6.877973e-07</td>\n",
       "      <td>4.322525e-07</td>\n",
       "      <td>2.319994e-07</td>\n",
       "      <td>3.368491e-07</td>\n",
       "      <td>1.818309e-07</td>\n",
       "      <td>8.241035e-09</td>\n",
       "      <td>3.468823e-11</td>\n",
       "    </tr>\n",
       "    <tr>\n",
       "      <th>2</th>\n",
       "      <td>108</td>\n",
       "      <td>dsl_data/audio/speakers/2ojo7YRL7Gck83Z3/4694e...</td>\n",
       "      <td>2ojo7YRL7Gck83Z3</td>\n",
       "      <td>activate</td>\n",
       "      <td>music</td>\n",
       "      <td>0</td>\n",
       "      <td>0</td>\n",
       "      <td>0</td>\n",
       "      <td>0</td>\n",
       "      <td>0</td>\n",
       "      <td>...</td>\n",
       "      <td>6.418015e-08</td>\n",
       "      <td>8.978116e-08</td>\n",
       "      <td>1.000982e-07</td>\n",
       "      <td>1.687780e-07</td>\n",
       "      <td>1.550420e-07</td>\n",
       "      <td>6.748530e-08</td>\n",
       "      <td>3.102568e-08</td>\n",
       "      <td>1.195675e-08</td>\n",
       "      <td>4.580976e-09</td>\n",
       "      <td>3.438152e-09</td>\n",
       "    </tr>\n",
       "    <tr>\n",
       "      <th>3</th>\n",
       "      <td>109</td>\n",
       "      <td>dsl_data/audio/speakers/2ojo7YRL7Gck83Z3/494ea...</td>\n",
       "      <td>2ojo7YRL7Gck83Z3</td>\n",
       "      <td>decrease</td>\n",
       "      <td>volume</td>\n",
       "      <td>0</td>\n",
       "      <td>0</td>\n",
       "      <td>0</td>\n",
       "      <td>0</td>\n",
       "      <td>0</td>\n",
       "      <td>...</td>\n",
       "      <td>4.125046e-08</td>\n",
       "      <td>6.356045e-08</td>\n",
       "      <td>7.704278e-08</td>\n",
       "      <td>5.048867e-08</td>\n",
       "      <td>7.592725e-08</td>\n",
       "      <td>3.924195e-08</td>\n",
       "      <td>1.624490e-08</td>\n",
       "      <td>3.819438e-09</td>\n",
       "      <td>3.304342e-10</td>\n",
       "      <td>3.342751e-12</td>\n",
       "    </tr>\n",
       "    <tr>\n",
       "      <th>4</th>\n",
       "      <td>110</td>\n",
       "      <td>dsl_data/audio/speakers/2ojo7YRL7Gck83Z3/540ee...</td>\n",
       "      <td>2ojo7YRL7Gck83Z3</td>\n",
       "      <td>deactivate</td>\n",
       "      <td>lights</td>\n",
       "      <td>0</td>\n",
       "      <td>0</td>\n",
       "      <td>0</td>\n",
       "      <td>0</td>\n",
       "      <td>0</td>\n",
       "      <td>...</td>\n",
       "      <td>6.044498e-08</td>\n",
       "      <td>6.944633e-08</td>\n",
       "      <td>7.345793e-08</td>\n",
       "      <td>1.963227e-07</td>\n",
       "      <td>4.626480e-07</td>\n",
       "      <td>2.389892e-07</td>\n",
       "      <td>7.018110e-08</td>\n",
       "      <td>1.642731e-08</td>\n",
       "      <td>1.330104e-09</td>\n",
       "      <td>1.173896e-11</td>\n",
       "    </tr>\n",
       "    <tr>\n",
       "      <th>...</th>\n",
       "      <td>...</td>\n",
       "      <td>...</td>\n",
       "      <td>...</td>\n",
       "      <td>...</td>\n",
       "      <td>...</td>\n",
       "      <td>...</td>\n",
       "      <td>...</td>\n",
       "      <td>...</td>\n",
       "      <td>...</td>\n",
       "      <td>...</td>\n",
       "      <td>...</td>\n",
       "      <td>...</td>\n",
       "      <td>...</td>\n",
       "      <td>...</td>\n",
       "      <td>...</td>\n",
       "      <td>...</td>\n",
       "      <td>...</td>\n",
       "      <td>...</td>\n",
       "      <td>...</td>\n",
       "      <td>...</td>\n",
       "      <td>...</td>\n",
       "    </tr>\n",
       "    <tr>\n",
       "      <th>9374</th>\n",
       "      <td>9849</td>\n",
       "      <td>dsl_data/audio/speakers/vnljypgejkINbBAY/4fb3d...</td>\n",
       "      <td>vnljypgejkINbBAY</td>\n",
       "      <td>decrease</td>\n",
       "      <td>volume</td>\n",
       "      <td>0</td>\n",
       "      <td>0</td>\n",
       "      <td>0</td>\n",
       "      <td>1</td>\n",
       "      <td>0</td>\n",
       "      <td>...</td>\n",
       "      <td>1.466784e-06</td>\n",
       "      <td>4.727239e-07</td>\n",
       "      <td>1.090226e-06</td>\n",
       "      <td>7.522668e-07</td>\n",
       "      <td>6.793515e-07</td>\n",
       "      <td>8.201328e-07</td>\n",
       "      <td>9.526733e-07</td>\n",
       "      <td>2.238469e-07</td>\n",
       "      <td>9.224985e-09</td>\n",
       "      <td>5.584047e-11</td>\n",
       "    </tr>\n",
       "    <tr>\n",
       "      <th>9375</th>\n",
       "      <td>9850</td>\n",
       "      <td>dsl_data/audio/speakers/vnljypgejkINbBAY/59e6a...</td>\n",
       "      <td>vnljypgejkINbBAY</td>\n",
       "      <td>deactivate</td>\n",
       "      <td>lights</td>\n",
       "      <td>0</td>\n",
       "      <td>0</td>\n",
       "      <td>0</td>\n",
       "      <td>1</td>\n",
       "      <td>0</td>\n",
       "      <td>...</td>\n",
       "      <td>3.520913e-07</td>\n",
       "      <td>2.115596e-07</td>\n",
       "      <td>2.834343e-07</td>\n",
       "      <td>3.136267e-07</td>\n",
       "      <td>3.330108e-07</td>\n",
       "      <td>3.659563e-07</td>\n",
       "      <td>1.031203e-07</td>\n",
       "      <td>1.667427e-08</td>\n",
       "      <td>3.532347e-10</td>\n",
       "      <td>3.345999e-12</td>\n",
       "    </tr>\n",
       "    <tr>\n",
       "      <th>9376</th>\n",
       "      <td>9851</td>\n",
       "      <td>dsl_data/audio/speakers/vnljypgejkINbBAY/5c81c...</td>\n",
       "      <td>vnljypgejkINbBAY</td>\n",
       "      <td>deactivate</td>\n",
       "      <td>lights</td>\n",
       "      <td>0</td>\n",
       "      <td>0</td>\n",
       "      <td>0</td>\n",
       "      <td>1</td>\n",
       "      <td>0</td>\n",
       "      <td>...</td>\n",
       "      <td>3.005407e-06</td>\n",
       "      <td>1.894453e-06</td>\n",
       "      <td>1.120879e-06</td>\n",
       "      <td>4.509063e-07</td>\n",
       "      <td>2.050255e-07</td>\n",
       "      <td>2.727756e-07</td>\n",
       "      <td>1.988128e-07</td>\n",
       "      <td>3.190007e-08</td>\n",
       "      <td>2.907395e-09</td>\n",
       "      <td>3.573724e-11</td>\n",
       "    </tr>\n",
       "    <tr>\n",
       "      <th>9377</th>\n",
       "      <td>9852</td>\n",
       "      <td>dsl_data/audio/speakers/vnljypgejkINbBAY/5ef42...</td>\n",
       "      <td>vnljypgejkINbBAY</td>\n",
       "      <td>deactivate</td>\n",
       "      <td>lights</td>\n",
       "      <td>0</td>\n",
       "      <td>0</td>\n",
       "      <td>0</td>\n",
       "      <td>1</td>\n",
       "      <td>0</td>\n",
       "      <td>...</td>\n",
       "      <td>2.919442e-06</td>\n",
       "      <td>2.089495e-06</td>\n",
       "      <td>1.364334e-06</td>\n",
       "      <td>4.710524e-07</td>\n",
       "      <td>1.293256e-06</td>\n",
       "      <td>1.746767e-06</td>\n",
       "      <td>1.370511e-06</td>\n",
       "      <td>2.736100e-07</td>\n",
       "      <td>1.279671e-08</td>\n",
       "      <td>4.697547e-11</td>\n",
       "    </tr>\n",
       "    <tr>\n",
       "      <th>9378</th>\n",
       "      <td>9853</td>\n",
       "      <td>dsl_data/audio/speakers/vnljypgejkINbBAY/61b7a...</td>\n",
       "      <td>vnljypgejkINbBAY</td>\n",
       "      <td>increase</td>\n",
       "      <td>volume</td>\n",
       "      <td>0</td>\n",
       "      <td>0</td>\n",
       "      <td>0</td>\n",
       "      <td>1</td>\n",
       "      <td>0</td>\n",
       "      <td>...</td>\n",
       "      <td>7.355068e-07</td>\n",
       "      <td>9.339952e-07</td>\n",
       "      <td>1.161122e-06</td>\n",
       "      <td>3.164907e-07</td>\n",
       "      <td>4.365560e-07</td>\n",
       "      <td>2.386371e-07</td>\n",
       "      <td>1.116240e-07</td>\n",
       "      <td>3.319655e-08</td>\n",
       "      <td>4.344781e-09</td>\n",
       "      <td>2.637385e-11</td>\n",
       "    </tr>\n",
       "  </tbody>\n",
       "</table>\n",
       "<p>9379 rows × 996 columns</p>\n",
       "</div>"
      ],
      "text/plain": [
       "        Id                                               path  \\\n",
       "0      106  dsl_data/audio/speakers/2ojo7YRL7Gck83Z3/3e7e4...   \n",
       "1      107  dsl_data/audio/speakers/2ojo7YRL7Gck83Z3/4136f...   \n",
       "2      108  dsl_data/audio/speakers/2ojo7YRL7Gck83Z3/4694e...   \n",
       "3      109  dsl_data/audio/speakers/2ojo7YRL7Gck83Z3/494ea...   \n",
       "4      110  dsl_data/audio/speakers/2ojo7YRL7Gck83Z3/540ee...   \n",
       "...    ...                                                ...   \n",
       "9374  9849  dsl_data/audio/speakers/vnljypgejkINbBAY/4fb3d...   \n",
       "9375  9850  dsl_data/audio/speakers/vnljypgejkINbBAY/59e6a...   \n",
       "9376  9851  dsl_data/audio/speakers/vnljypgejkINbBAY/5c81c...   \n",
       "9377  9852  dsl_data/audio/speakers/vnljypgejkINbBAY/5ef42...   \n",
       "9378  9853  dsl_data/audio/speakers/vnljypgejkINbBAY/61b7a...   \n",
       "\n",
       "             speakerId           action  object  Self-reported fluency level   \\\n",
       "0     2ojo7YRL7Gck83Z3       deactivate  lights                             0   \n",
       "1     2ojo7YRL7Gck83Z3  change language    none                             0   \n",
       "2     2ojo7YRL7Gck83Z3         activate   music                             0   \n",
       "3     2ojo7YRL7Gck83Z3         decrease  volume                             0   \n",
       "4     2ojo7YRL7Gck83Z3       deactivate  lights                             0   \n",
       "...                ...              ...     ...                           ...   \n",
       "9374  vnljypgejkINbBAY         decrease  volume                             0   \n",
       "9375  vnljypgejkINbBAY       deactivate  lights                             0   \n",
       "9376  vnljypgejkINbBAY       deactivate  lights                             0   \n",
       "9377  vnljypgejkINbBAY       deactivate  lights                             0   \n",
       "9378  vnljypgejkINbBAY         increase  volume                             0   \n",
       "\n",
       "      First Language spoken  Current language used for work/school  gender  \\\n",
       "0                         0                                      0       0   \n",
       "1                         0                                      0       0   \n",
       "2                         0                                      0       0   \n",
       "3                         0                                      0       0   \n",
       "4                         0                                      0       0   \n",
       "...                     ...                                    ...     ...   \n",
       "9374                      0                                      0       1   \n",
       "9375                      0                                      0       1   \n",
       "9376                      0                                      0       1   \n",
       "9377                      0                                      0       1   \n",
       "9378                      0                                      0       1   \n",
       "\n",
       "      ageRange  ...           968           969           970           971  \\\n",
       "0            0  ...  6.396494e-08  1.014894e-07  1.193709e-07  2.390989e-07   \n",
       "1            0  ...  5.256315e-07  4.872966e-07  3.301417e-07  6.877973e-07   \n",
       "2            0  ...  6.418015e-08  8.978116e-08  1.000982e-07  1.687780e-07   \n",
       "3            0  ...  4.125046e-08  6.356045e-08  7.704278e-08  5.048867e-08   \n",
       "4            0  ...  6.044498e-08  6.944633e-08  7.345793e-08  1.963227e-07   \n",
       "...        ...  ...           ...           ...           ...           ...   \n",
       "9374         0  ...  1.466784e-06  4.727239e-07  1.090226e-06  7.522668e-07   \n",
       "9375         0  ...  3.520913e-07  2.115596e-07  2.834343e-07  3.136267e-07   \n",
       "9376         0  ...  3.005407e-06  1.894453e-06  1.120879e-06  4.509063e-07   \n",
       "9377         0  ...  2.919442e-06  2.089495e-06  1.364334e-06  4.710524e-07   \n",
       "9378         0  ...  7.355068e-07  9.339952e-07  1.161122e-06  3.164907e-07   \n",
       "\n",
       "               972           973           974           975           976  \\\n",
       "0     3.414445e-07  2.453299e-07  4.460065e-08  1.093370e-08  6.335365e-10   \n",
       "1     4.322525e-07  2.319994e-07  3.368491e-07  1.818309e-07  8.241035e-09   \n",
       "2     1.550420e-07  6.748530e-08  3.102568e-08  1.195675e-08  4.580976e-09   \n",
       "3     7.592725e-08  3.924195e-08  1.624490e-08  3.819438e-09  3.304342e-10   \n",
       "4     4.626480e-07  2.389892e-07  7.018110e-08  1.642731e-08  1.330104e-09   \n",
       "...            ...           ...           ...           ...           ...   \n",
       "9374  6.793515e-07  8.201328e-07  9.526733e-07  2.238469e-07  9.224985e-09   \n",
       "9375  3.330108e-07  3.659563e-07  1.031203e-07  1.667427e-08  3.532347e-10   \n",
       "9376  2.050255e-07  2.727756e-07  1.988128e-07  3.190007e-08  2.907395e-09   \n",
       "9377  1.293256e-06  1.746767e-06  1.370511e-06  2.736100e-07  1.279671e-08   \n",
       "9378  4.365560e-07  2.386371e-07  1.116240e-07  3.319655e-08  4.344781e-09   \n",
       "\n",
       "               977  \n",
       "0     5.685474e-12  \n",
       "1     3.468823e-11  \n",
       "2     3.438152e-09  \n",
       "3     3.342751e-12  \n",
       "4     1.173896e-11  \n",
       "...            ...  \n",
       "9374  5.584047e-11  \n",
       "9375  3.345999e-12  \n",
       "9376  3.573724e-11  \n",
       "9377  4.697547e-11  \n",
       "9378  2.637385e-11  \n",
       "\n",
       "[9379 rows x 996 columns]"
      ]
     },
     "execution_count": 39,
     "metadata": {},
     "output_type": "execute_result"
    }
   ],
   "source": [
    "df"
   ]
  },
  {
   "attachments": {},
   "cell_type": "markdown",
   "metadata": {},
   "source": [
    "Select features & labels"
   ]
  },
  {
   "cell_type": "code",
   "execution_count": 40,
   "metadata": {},
   "outputs": [],
   "source": [
    "# x = df.drop(['Id','path','speakerId','action','object','action-object','Self-reported fluency level ','First Language spoken','Current language used for work/school','data', 'sample_rate', 'duration', 'data_trim', 'duration_trim', 'data_pad', 'duration_data'],axis=1)\n",
    "# x_evaluation = evaluation_df.drop(['Id','path','speakerId','Self-reported fluency level ','First Language spoken','Current language used for work/school','data', 'sample_rate', 'duration', 'data_trim', 'duration_trim', 'data_pad', 'duration_data'],axis=1)\n",
    "\n",
    "x = df.drop(['Id','path','speakerId','action','object','action-object','data', 'sample_rate', 'duration', 'data_trim', 'duration_trim', 'data_pad', 'duration_data'],axis=1)\n",
    "x_evaluation = evaluation_df.drop(['Id','path','speakerId','data', 'sample_rate', 'duration', 'data_trim', 'duration_trim', 'data_pad', 'duration_data'],axis=1)\n",
    "\n",
    "\n",
    "y = df[['action-object']].copy()\n",
    "\n",
    "# Change column names from Int to Str to avoid error by SKLEARN\n",
    "x.columns = x.columns.astype(str)\n",
    "x_evaluation.columns = x_evaluation.columns.astype(str)\n"
   ]
  },
  {
   "attachments": {},
   "cell_type": "markdown",
   "metadata": {},
   "source": [
    "Drop columns (features) is needed"
   ]
  },
  {
   "cell_type": "code",
   "execution_count": 21,
   "metadata": {},
   "outputs": [],
   "source": [
    "# column_names = [str(i) for i in range(210, 978)]\n",
    "# x = x.drop(columns=column_names)\n",
    "# x_evaluation= x_evaluation.drop(columns=column_names)"
   ]
  },
  {
   "attachments": {},
   "cell_type": "markdown",
   "metadata": {},
   "source": [
    "plot PCA graph"
   ]
  },
  {
   "cell_type": "code",
   "execution_count": null,
   "metadata": {},
   "outputs": [],
   "source": [
    "# pca = PCA().fit(data_rescaled)\n",
    "\n",
    "# %matplotlib inline\n",
    "# import matplotlib.pyplot as plt\n",
    "# plt.rcParams[\"figure.figsize\"] = (50,50)\n",
    "\n",
    "# fig, ax = plt.subplots()\n",
    "# xi = np.arange(1, 213, step=1)\n",
    "# y = np.cumsum(pca.explained_variance_ratio_)\n",
    "\n",
    "# plt.ylim(0.0,1.1)\n",
    "# plt.plot(xi, y, marker='o', linestyle='--', color='b')\n",
    "\n",
    "# plt.xlabel('Number of Components')\n",
    "# plt.xticks(np.arange(0, 212, step=1)) #change from 0-based array index to 1-based human-readable label\n",
    "# plt.ylabel('Cumulative variance (%)')\n",
    "# plt.title('The number of components needed to explain variance')\n",
    "\n",
    "# plt.axhline(y=0.95, color='r', linestyle='-')\n",
    "# plt.text(0.5, 0.85, '95% cut-off threshold', color = 'red', fontsize=16)\n",
    "\n",
    "# ax.grid(axis='x')\n",
    "# plt.show()"
   ]
  },
  {
   "attachments": {},
   "cell_type": "markdown",
   "metadata": {},
   "source": [
    "Transform data & run PCA to reduce dimensionality"
   ]
  },
  {
   "cell_type": "code",
   "execution_count": 42,
   "metadata": {},
   "outputs": [],
   "source": [
    "# Apply scaling (Z-score) for PCA since pca is sensitive to the scale of features.\n",
    "\n",
    "# scaler = StandardScaler()\n",
    "# scaler.fit(x)\n",
    "# X_scaled = scaler.transform(x)\n",
    "# X_evaluation_scaled = scaler.transform(x_evaluation)  # apply same transformation to test data\n",
    "# pca = PCA(n_components=.95).fit(X_scaled)\n",
    "# X_pca = pca.transform(X_scaled)\n",
    "# X_evaluation_pca = pca.transform(X_evaluation_scaled)\n",
    "# print(sum(pca.explained_variance_ratio_)) \n",
    "\n",
    "\n",
    "from sklearn.preprocessing import MinMaxScaler\n",
    "scaler = MinMaxScaler()\n",
    "scaler.fit(x) \n",
    "X_scaled = scaler.transform(x)\n",
    "# apply same transformation to test data\n",
    "X_evaluation_scaled = scaler.transform(x_evaluation)  \n",
    "\n",
    "# def standardize(x_train, x_test):\n",
    "#     mean = np.mean(x_train, axis=0)\n",
    "#     std = np.std(x_train, axis=0)\n",
    "#     x_train_standardized = (x_train - mean) / std\n",
    "#     x_test_standardized = (x_test - mean) / std\n",
    "#     return x_train_standardized, x_test_standardized\n",
    "# X_scaled, X_evaluation_scaled = standardize(x, x_evaluation)"
   ]
  },
  {
   "attachments": {},
   "cell_type": "markdown",
   "metadata": {},
   "source": [
    "Split data to training and test"
   ]
  },
  {
   "cell_type": "code",
   "execution_count": 43,
   "metadata": {},
   "outputs": [],
   "source": [
    "#80% training data and 20% test data\n",
    "x_train, x_test, y_train, y_test = train_test_split(X_scaled, y,test_size = .2,random_state = 42, shuffle = True)\n",
    "# x_train, x_test, y_train, y_test = train_test_split(X_scaled, y,test_size = .2)\n",
    "\n"
   ]
  },
  {
   "attachments": {},
   "cell_type": "markdown",
   "metadata": {},
   "source": [
    "Grid search for Random Forest model"
   ]
  },
  {
   "cell_type": "code",
   "execution_count": null,
   "metadata": {},
   "outputs": [],
   "source": [
    "# from sklearn.ensemble import RandomForestClassifier\n",
    "# from sklearn.model_selection import GridSearchCV\n",
    "\n",
    "# # Define the parameter grid to search over\n",
    "# param_grid = {'n_estimators': [10, 100, 1000],\n",
    "#               'max_depth': [3, 5, 7],\n",
    "#               'min_samples_leaf': [1, 2, 3],\n",
    "#               'criterion': ['gini', 'entropy']}\n",
    "\n",
    "# # Initialize the random forest classifier\n",
    "# rf = RandomForestClassifier()\n",
    "\n",
    "# # Use GridSearchCV to find the best parameters\n",
    "# grid_search = GridSearchCV(rf, param_grid, cv=2, scoring='accuracy')\n",
    "# grid_search.fit(X_scaled, y)\n",
    "\n",
    "# # Print the best parameters and the best score\n",
    "# print(\"Best parameters: \", grid_search.best_params_)\n",
    "# print(\"Best score: \", grid_search.best_score_)\n"
   ]
  },
  {
   "attachments": {},
   "cell_type": "markdown",
   "metadata": {},
   "source": [
    "Run Random Forest Classifier after obtaining best hyperparams"
   ]
  },
  {
   "cell_type": "code",
   "execution_count": null,
   "metadata": {},
   "outputs": [],
   "source": [
    "#Create a Classifier\n",
    "rf_clf=RandomForestClassifier(criterion ='entropy', max_depth= 7, min_samples_leaf= 2, n_estimators= 1000)\n",
    "\n",
    "#Train the model using the training sets \n",
    "rf_clf.fit(x_train,np.ravel(y_train))\n",
    "y_pred_rf=rf_clf.predict(x_test)\n",
    "\n",
    "# Model Accuracy using test data (20%)\n",
    "print(\"Accuracy:\",accuracy_score(y_test, y_pred_rf))\n",
    "print(\"Precision:\", precision_score(y_test, y_pred_rf,average='weighted'))\n",
    "print(\"Recall:\", recall_score(y_test, y_pred_rf,average='weighted'))\n",
    "print(\"F1-Score:\", f1_score(y_test, y_pred_rf,average='weighted'))"
   ]
  },
  {
   "attachments": {},
   "cell_type": "markdown",
   "metadata": {},
   "source": [
    "Grid search for SVM model"
   ]
  },
  {
   "cell_type": "code",
   "execution_count": null,
   "metadata": {},
   "outputs": [],
   "source": [
    "# # Define the parameter grid to search over\n",
    "\n",
    "# param_grid = {'C': [0.1, 1,4,8,10,50,100,1000], 'gamma': [0.01, 0.1, 1]}\n",
    "\n",
    "# # Create a SVM with an RBF kernel\n",
    "# svm = SVC(kernel='rbf')\n",
    "\n",
    "# # Perform the grid search using 10-fold cross-validation\n",
    "# grid_search = GridSearchCV(svm, param_grid)\n",
    "# grid_search.fit(x_train, np.ravel(y_train))\n",
    "\n",
    "# # Print the best parameters and the corresponding mean test score\n",
    "# print(\"Best parameters: \",grid_search.best_params_)\n",
    "# print(\"Best score: \",grid_search.best_score_)"
   ]
  },
  {
   "attachments": {},
   "cell_type": "markdown",
   "metadata": {},
   "source": [
    "Run SVM Classifier after obtaining best hyperparams"
   ]
  },
  {
   "cell_type": "code",
   "execution_count": 44,
   "metadata": {},
   "outputs": [
    {
     "name": "stdout",
     "output_type": "stream",
     "text": [
      "Accuracy: 0.662046908315565\n",
      "Precision: 0.6667460436011269\n",
      "Recall: 0.662046908315565\n",
      "F1-Score: 0.6629969451230404\n"
     ]
    }
   ],
   "source": [
    "svm_clf = svm.SVC(kernel='rbf', C=4,gamma=0.1)\n",
    "\n",
    "svm_clf.fit(x_train,np.ravel(y_train))\n",
    "y_pred_svm=svm_clf.predict(x_test)\n",
    "\n",
    "# Model Accuracy using test data (20%)\n",
    "print(\"Accuracy:\",accuracy_score(y_test, y_pred_svm))\n",
    "print(\"Precision:\", precision_score(y_test, y_pred_svm,average='weighted'))\n",
    "print(\"Recall:\", recall_score(y_test, y_pred_svm,average='weighted'))\n",
    "print(\"F1-Score:\", f1_score(y_test, y_pred_svm,average='weighted'))\n",
    "\n",
    "# 0.646\n"
   ]
  },
  {
   "attachments": {},
   "cell_type": "markdown",
   "metadata": {},
   "source": [
    "Predict labels of evaluation data using SVM"
   ]
  },
  {
   "cell_type": "code",
   "execution_count": 33,
   "metadata": {},
   "outputs": [],
   "source": [
    "# evaluation_svm =svm_clf.predict(X_evaluation_scaled)\n",
    "\n",
    "svm_clf = svm.SVC(kernel='rbf', C=4,gamma=0.1)\n",
    "\n",
    "svm_clf.fit(X_scaled,np.ravel(y))\n",
    "evaluation_svm=svm_clf.predict(X_evaluation_scaled)\n",
    "\n",
    "evaluation_svm = list(map(lambda s: s.replace(\"-\", \"\"), evaluation_svm))\n",
    "\n",
    "svm_df = pd.DataFrame(evaluation_svm, columns = ['Predicted'])\n",
    "svm_df.index.name = 'Id'\n"
   ]
  },
  {
   "attachments": {},
   "cell_type": "markdown",
   "metadata": {},
   "source": [
    "Predict labels of evaluation data using Random Forest"
   ]
  },
  {
   "cell_type": "code",
   "execution_count": null,
   "metadata": {},
   "outputs": [],
   "source": [
    "evaluation_rf=rf_clf.predict(X_evaluation_scaled)\n",
    "\n",
    "evaluation_rf = list(map(lambda s: s.replace(\"-\", \"\"), evaluation_rf))\n",
    "\n",
    "rf_df = pd.DataFrame(evaluation_rf, columns = ['Predicted'])\n",
    "rf_df.index.name = 'Id'\n"
   ]
  },
  {
   "attachments": {},
   "cell_type": "markdown",
   "metadata": {},
   "source": [
    "Save both predictions in csv file"
   ]
  },
  {
   "cell_type": "code",
   "execution_count": 34,
   "metadata": {},
   "outputs": [
    {
     "name": "stdout",
     "output_type": "stream",
     "text": [
      "evaluation/svm_predictions1675264390.csv\n"
     ]
    }
   ],
   "source": [
    "now = int(time.time())\n",
    "\n",
    "svm_df.to_csv(f'evaluation/svm_predictions{now}.csv',index=True,header=True)\n",
    "# rf_df.to_csv(f'evaluation/rf_predictions{now}.csv',index=True,header=True)\n",
    "\n",
    "# Print paths of saved csv\n",
    "print(f'evaluation/svm_predictions{now}.csv')\n",
    "# print(f'evaluation/rf_predictions{now}.csv')\n"
   ]
  }
 ],
 "metadata": {
  "kernelspec": {
   "display_name": "venv",
   "language": "python",
   "name": "python3"
  },
  "language_info": {
   "codemirror_mode": {
    "name": "ipython",
    "version": 3
   },
   "file_extension": ".py",
   "mimetype": "text/x-python",
   "name": "python",
   "nbconvert_exporter": "python",
   "pygments_lexer": "ipython3",
   "version": "3.10.2 (tags/v3.10.2:a58ebcc, Jan 17 2022, 14:12:15) [MSC v.1929 64 bit (AMD64)]"
  },
  "orig_nbformat": 4,
  "vscode": {
   "interpreter": {
    "hash": "d632ece9ffddb0af8003b7fd18727f76c563889d1c26c69682c14ed7f3fb0566"
   }
  }
 },
 "nbformat": 4,
 "nbformat_minor": 2
}
