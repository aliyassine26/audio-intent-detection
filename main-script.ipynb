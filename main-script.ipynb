{
 "cells": [
  {
   "cell_type": "code",
   "execution_count": null,
   "metadata": {},
   "outputs": [],
   "source": [
    "import numpy as np\n",
    "import pandas as pd\n",
    "from scipy.io.wavfile import read \n",
    "import os"
   ]
  },
  {
   "cell_type": "code",
   "execution_count": null,
   "metadata": {},
   "outputs": [],
   "source": [
    "# Storing the address in 'url' variable\n",
    "data_path =   \"dsl_data/development.csv\"\n",
    "# Importing the file from the address contained in 'url' into 'df' \n",
    "df = pd.read_csv(data_path)\n",
    "df"
   ]
  },
  {
   "cell_type": "code",
   "execution_count": null,
   "metadata": {},
   "outputs": [],
   "source": [
    "# Check null values in Training dataset (pandas dataframe)\n",
    "df.isnull().sum().sum()"
   ]
  },
  {
   "cell_type": "code",
   "execution_count": null,
   "metadata": {},
   "outputs": [],
   "source": [
    "# To get unique values in order to map values to objects imported from src/data.py\n",
    "\n",
    "print(df['object'].unique())\n",
    "print(df['action'].unique())\n"
   ]
  },
  {
   "cell_type": "code",
   "execution_count": null,
   "metadata": {},
   "outputs": [],
   "source": [
    "df.shape"
   ]
  },
  {
   "cell_type": "code",
   "execution_count": null,
   "metadata": {},
   "outputs": [],
   "source": [
    "import dict_data \n",
    "\n",
    "df['gender'] = df['gender'].map(dict_data.gender_map)\n",
    "df['Self-reported fluency level '] = df['Self-reported fluency level '].map(dict_data.language_fluency_map)\n",
    "df['ageRange'] = df['ageRange'].map(dict_data.age_range_map)\n",
    "df['Current language used for work/school'] = df['Current language used for work/school'].map(dict_data.current_language_map)\n",
    "df['First Language spoken'] = df['First Language spoken'].map(dict_data.first_language_map)\n",
    "\n",
    "\n",
    "# Try to combine action & object in 1 column\n",
    "df[\"action-object\"] = df['action'].astype(str) +\"-\"+ df[\"object\"]\n"
   ]
  },
  {
   "cell_type": "code",
   "execution_count": null,
   "metadata": {},
   "outputs": [],
   "source": [
    "path = os.getcwd() + \"/\"\n",
    "audios_array = []\n",
    "rate_array = []\n",
    "for audio in df['path']:\n",
    "    rate, data = read(audio, mmap=False)   \n",
    "    audios_array.append(np.mean(data))\n",
    "    rate_array.append(rate)\n",
    "\n",
    "    \n",
    "\n",
    "df['audio'] = audios_array \n",
    "df['rate'] = rate_array   \n",
    "\n",
    " \n",
    "\n",
    "\n",
    "# we can realize two different sample rates for our wav files 16000 & 22050\n",
    "print(df.rate.value_counts())\n",
    "print(df.rate.unique())\n",
    "\n",
    "\n",
    "\n"
   ]
  },
  {
   "cell_type": "code",
   "execution_count": null,
   "metadata": {},
   "outputs": [],
   "source": [
    "from sklearn.model_selection import train_test_split\n",
    "\n",
    "x = df[['Self-reported fluency level ','First Language spoken', 'Current language used for work/school', 'gender', 'ageRange','audio','rate']].copy()\n",
    "y = df[['action-object']].copy()\n",
    "\n",
    "\n",
    "#train_test_split splits the data into 75% training data and 25% test data\n",
    "x_train, x_test, y_train, y_test = train_test_split(x, y)"
   ]
  },
  {
   "cell_type": "code",
   "execution_count": 137,
   "metadata": {},
   "outputs": [
    {
     "name": "stdout",
     "output_type": "stream",
     "text": [
      "FIT\n"
     ]
    },
    {
     "data": {
      "text/plain": [
       "array(['deactivate-lights', 'decrease-volume', 'decrease-volume', ...,\n",
       "       'increase-volume', 'decrease-volume', 'deactivate-lights'],\n",
       "      dtype=object)"
      ]
     },
     "execution_count": 137,
     "metadata": {},
     "output_type": "execute_result"
    }
   ],
   "source": [
    "#Import Random Forest Model\n",
    "from sklearn.ensemble import RandomForestClassifier\n",
    "\n",
    "#Create a Classifier\n",
    "clf=RandomForestClassifier(n_estimators=100)\n",
    "\n",
    "#Train the model using the training sets y_pred=clf.predict(X_test)\n",
    "clf.fit(x_train,y_train.values.ravel())\n",
    "print(\"FIT\")\n",
    "y_pred=clf.predict(x_test)\n",
    "\n",
    "y_pred"
   ]
  },
  {
   "cell_type": "code",
   "execution_count": 138,
   "metadata": {},
   "outputs": [],
   "source": [
    "# from sklearn import svm\n",
    "\n",
    "# clf = svm.SVC()\n",
    "# clf.fit(x_train,y_train)\n",
    "# y_pred=clf.predict(x_test)\n",
    "# y_pred\n"
   ]
  },
  {
   "cell_type": "code",
   "execution_count": 139,
   "metadata": {},
   "outputs": [],
   "source": [
    "\n",
    "# from sklearn.tree import DecisionTreeClassifier\n",
    "# clf = DecisionTreeClassifier(max_depth = 10, min_impurity_decrease=0.01)\n",
    "# clf.fit(x_train, y_train)\n",
    "# y_pred = clf.predict(x_test)\n",
    "# y_pred"
   ]
  },
  {
   "cell_type": "code",
   "execution_count": 140,
   "metadata": {},
   "outputs": [
    {
     "name": "stdout",
     "output_type": "stream",
     "text": [
      "Test set accuracy: 0.19480519480519481\n"
     ]
    }
   ],
   "source": [
    "#Import scikit-learn metrics module for accuracy calculation\n",
    "from sklearn import metrics\n",
    "\n",
    "# Model Accuracy using test data (25%)\n",
    "print(\"Test set accuracy:\",metrics.accuracy_score(y_test, y_pred))"
   ]
  },
  {
   "cell_type": "code",
   "execution_count": 141,
   "metadata": {},
   "outputs": [],
   "source": [
    "# Storing the address in 'url' variable\n",
    "evaluation_path =   \"dsl_data/evaluation.csv\"\n",
    "\n",
    "# Importing the csv file from the address contained in 'url' into 'evaluation_df' \n",
    "evaluation_df = pd.read_csv(evaluation_path)\n",
    "\n",
    "# Check null values in Training dataset (pandas dataframe)\n",
    "evaluation_df.isnull().sum().sum()\n",
    "\n",
    "import dict_data \n",
    "\n",
    "# map features in evaluation_df to predefined dictionaries\n",
    "evaluation_df['gender'] = evaluation_df['gender'].map(dict_data.gender_map)\n",
    "evaluation_df['Self-reported fluency level '] = evaluation_df['Self-reported fluency level '].map(dict_data.language_fluency_map)\n",
    "evaluation_df['ageRange'] = evaluation_df['ageRange'].map(dict_data.age_range_map)\n",
    "evaluation_df['Current language used for work/school'] = evaluation_df['Current language used for work/school'].map(dict_data.current_language_map)\n",
    "evaluation_df['First Language spoken'] = evaluation_df['First Language spoken'].map(dict_data.first_language_map)\n",
    "\n",
    "\n",
    "# Get audio file for each instance into an array\n",
    "path = os.getcwd() + \"/\"\n",
    "audios_array = []\n",
    "rate_array = []\n",
    "\n",
    "for audio in evaluation_df['path']:\n",
    "    rate, data = read(audio, mmap=False)   \n",
    "    data = np.mean(data) \n",
    "    audios_array.append(data)\n",
    "    rate_array.append(rate)\n",
    "\n",
    "\n",
    "# Save array as a new column in our evaluation dataframe\n",
    "evaluation_df['audio'] = audios_array\n",
    "evaluation_df['rate'] = rate_array\n",
    "\n",
    "\n",
    "x_evaluation = evaluation_df[['Self-reported fluency level ','First Language spoken', 'Current language used for work/school', 'gender', 'ageRange', 'audio','rate']].copy()\n",
    "\n"
   ]
  },
  {
   "cell_type": "code",
   "execution_count": 142,
   "metadata": {},
   "outputs": [],
   "source": [
    "y_evaluation=clf.predict(x_evaluation)\n",
    "\n",
    "for element in y_evaluation:\n",
    "    element = element.replace(\"none\", \"\")\n",
    "    element = element.replace(\"-\", \"\")\n",
    "\n",
    "remove_dash = list(map(lambda s: s.replace(\"-\", \"\"), y_evaluation))\n",
    "modified_y_evaluation = list(map(lambda s: s.replace(\"none\", \"\"), remove_dash))\n",
    "\n",
    "# print map(lambda s: s.replace('-' , 'n'), y_evaluation)\n",
    "\n",
    "\n",
    "\n",
    "y_evaluation_df = pd.DataFrame(modified_y_evaluation, columns = ['Predicted'])\n",
    "y_evaluation_df\n",
    "y_evaluation_df.index.name = 'Id'\n",
    "\n",
    "y_evaluation_df.to_csv('evaluation/predictions.csv',index=True,header=True)"
   ]
  },
  {
   "cell_type": "code",
   "execution_count": null,
   "metadata": {},
   "outputs": [],
   "source": []
  }
 ],
 "metadata": {
  "kernelspec": {
   "display_name": "Python 3.10.2 64-bit",
   "language": "python",
   "name": "python3"
  },
  "language_info": {
   "codemirror_mode": {
    "name": "ipython",
    "version": 3
   },
   "file_extension": ".py",
   "mimetype": "text/x-python",
   "name": "python",
   "nbconvert_exporter": "python",
   "pygments_lexer": "ipython3",
   "version": "3.10.2"
  },
  "orig_nbformat": 4,
  "vscode": {
   "interpreter": {
    "hash": "5a6207722f3be5c8aeec7a028becc5489fbd28a1705747404dde5b96b7146bf2"
   }
  }
 },
 "nbformat": 4,
 "nbformat_minor": 2
}
