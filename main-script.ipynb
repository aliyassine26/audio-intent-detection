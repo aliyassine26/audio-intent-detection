{
 "cells": [
  {
   "cell_type": "code",
   "execution_count": 1,
   "metadata": {},
   "outputs": [],
   "source": [
    "import numpy as np\n",
    "import pandas as pd\n",
    "from scipy.io.wavfile import read \n",
    "import os\n",
    "import librosa\n",
    "import matplotlib.pyplot as plt\n",
    "from algorithms import plot_frequency_db\n"
   ]
  },
  {
   "cell_type": "code",
   "execution_count": 2,
   "metadata": {},
   "outputs": [],
   "source": [
    "import warnings\n",
    "warnings.filterwarnings(\"ignore\", category=UserWarning)"
   ]
  },
  {
   "cell_type": "code",
   "execution_count": 3,
   "metadata": {},
   "outputs": [],
   "source": [
    "# Storing the address in 'url' variable\n",
    "data_path = \"dsl_data/development.csv\"\n",
    "# Importing the file from the address contained in 'url' into 'df' \n",
    "df = pd.read_csv(data_path)"
   ]
  },
  {
   "cell_type": "code",
   "execution_count": 4,
   "metadata": {},
   "outputs": [
    {
     "data": {
      "text/plain": [
       "0"
      ]
     },
     "execution_count": 4,
     "metadata": {},
     "output_type": "execute_result"
    }
   ],
   "source": [
    "# Check null values in Training dataset (pandas dataframe)\n",
    "df.isnull().sum().sum()"
   ]
  },
  {
   "cell_type": "code",
   "execution_count": 5,
   "metadata": {},
   "outputs": [
    {
     "data": {
      "text/plain": [
       "(9854, 10)"
      ]
     },
     "execution_count": 5,
     "metadata": {},
     "output_type": "execute_result"
    }
   ],
   "source": [
    "df.shape"
   ]
  },
  {
   "cell_type": "code",
   "execution_count": 6,
   "metadata": {},
   "outputs": [],
   "source": [
    "import encode_dict_data  \n",
    "\n",
    "df['gender'] = df['gender'].map(encode_dict_data .gender_map)\n",
    "df['Self-reported fluency level '] = df['Self-reported fluency level '].map(encode_dict_data .language_fluency_map)\n",
    "df['ageRange'] = df['ageRange'].map(encode_dict_data .age_range_map)\n",
    "df['Current language used for work/school'] = df['Current language used for work/school'].map(encode_dict_data .current_language_map)\n",
    "df['First Language spoken'] = df['First Language spoken'].map(encode_dict_data .first_language_map)\n",
    "\n",
    "\n",
    "# Try to combine action & object in 1 column\n",
    "df[\"action-object\"] = df['action'].astype(str) +\"-\"+ df[\"object\"]\n",
    "\n"
   ]
  },
  {
   "cell_type": "code",
   "execution_count": 7,
   "metadata": {},
   "outputs": [
    {
     "ename": "AttributeError",
     "evalue": "module 'matplotlib' has no attribute 'grid'",
     "output_type": "error",
     "traceback": [
      "\u001b[1;31m---------------------------------------------------------------------------\u001b[0m",
      "\u001b[1;31mAttributeError\u001b[0m                            Traceback (most recent call last)",
      "Cell \u001b[1;32mIn[7], line 73\u001b[0m\n\u001b[0;32m     49\u001b[0m     duration_array\u001b[39m.\u001b[39mappend(data\u001b[39m.\u001b[39mshape[\u001b[39m0\u001b[39m] \u001b[39m/\u001b[39m rate)\n\u001b[0;32m     51\u001b[0m     \u001b[39m# Extract Spectral centroid\u001b[39;00m\n\u001b[0;32m     52\u001b[0m     \u001b[39m# centroid = librosa.feature.spectral_centroid(data, sr=rate)\u001b[39;00m\n\u001b[0;32m     53\u001b[0m     \u001b[39m# centroid_mean = np.mean(centroid)\u001b[39;00m\n\u001b[1;32m   (...)\u001b[0m\n\u001b[0;32m     71\u001b[0m     \u001b[39m# rolloff_mean_array.append(rolloff_mean)\u001b[39;00m\n\u001b[0;32m     72\u001b[0m     \u001b[39m# rolloff_std_array.append(rolloff_std)\u001b[39;00m\n\u001b[1;32m---> 73\u001b[0m     plot_mfcc(audio)\n\u001b[0;32m     78\u001b[0m \u001b[39m# df['rolloff_mean'] = rolloff_mean_array\u001b[39;00m\n\u001b[0;32m     79\u001b[0m \u001b[39m# df['rolloff_std'] = rolloff_std_array\u001b[39;00m\n\u001b[0;32m     80\u001b[0m \n\u001b[1;32m   (...)\u001b[0m\n\u001b[0;32m     93\u001b[0m \n\u001b[0;32m     94\u001b[0m \u001b[39m# df['chroma_cens'] = chroma_cens_array \u001b[39;00m\n",
      "File \u001b[1;32mc:\\Users\\asus rog\\Desktop\\audio-intent-detection\\algorithms\\plot_mfcc.py:9\u001b[0m, in \u001b[0;36mplot_mfcc\u001b[1;34m(path)\u001b[0m\n\u001b[0;32m      7\u001b[0m mfcc \u001b[39m=\u001b[39m librosa\u001b[39m.\u001b[39mfeature\u001b[39m.\u001b[39mmfcc(y\u001b[39m=\u001b[39mdata, sr\u001b[39m=\u001b[39mrate, n_mfcc\u001b[39m=\u001b[39m\u001b[39m50\u001b[39m)\n\u001b[0;32m      8\u001b[0m librosa\u001b[39m.\u001b[39mdisplay\u001b[39m.\u001b[39mspecshow(mfcc, sr\u001b[39m=\u001b[39mrate, x_axis\u001b[39m=\u001b[39m\u001b[39m'\u001b[39m\u001b[39mtime\u001b[39m\u001b[39m'\u001b[39m)\n\u001b[1;32m----> 9\u001b[0m plt\u001b[39m.\u001b[39;49mgrid(visible\u001b[39m=\u001b[39m\u001b[39mTrue\u001b[39;00m, linestyle\u001b[39m=\u001b[39m\u001b[39m'\u001b[39m\u001b[39m--\u001b[39m\u001b[39m'\u001b[39m, color\u001b[39m=\u001b[39m\u001b[39m'\u001b[39m\u001b[39mgray\u001b[39m\u001b[39m'\u001b[39m)\n\u001b[0;32m     10\u001b[0m plt\u001b[39m.\u001b[39mcolorbar()\n\u001b[0;32m     11\u001b[0m plt\u001b[39m.\u001b[39mtitle(\u001b[39m'\u001b[39m\u001b[39mMFCC\u001b[39m\u001b[39m'\u001b[39m)\n",
      "File \u001b[1;32mc:\\Users\\asus rog\\Desktop\\audio-intent-detection\\venv\\lib\\site-packages\\matplotlib\\_api\\__init__.py:224\u001b[0m, in \u001b[0;36mcaching_module_getattr.<locals>.__getattr__\u001b[1;34m(name)\u001b[0m\n\u001b[0;32m    222\u001b[0m \u001b[39mif\u001b[39;00m name \u001b[39min\u001b[39;00m props:\n\u001b[0;32m    223\u001b[0m     \u001b[39mreturn\u001b[39;00m props[name]\u001b[39m.\u001b[39m\u001b[39m__get__\u001b[39m(instance)\n\u001b[1;32m--> 224\u001b[0m \u001b[39mraise\u001b[39;00m \u001b[39mAttributeError\u001b[39;00m(\n\u001b[0;32m    225\u001b[0m     \u001b[39mf\u001b[39m\u001b[39m\"\u001b[39m\u001b[39mmodule \u001b[39m\u001b[39m{\u001b[39;00m\u001b[39mcls\u001b[39m\u001b[39m.\u001b[39m\u001b[39m__module__\u001b[39m\u001b[39m!r}\u001b[39;00m\u001b[39m has no attribute \u001b[39m\u001b[39m{\u001b[39;00mname\u001b[39m!r}\u001b[39;00m\u001b[39m\"\u001b[39m)\n",
      "\u001b[1;31mAttributeError\u001b[0m: module 'matplotlib' has no attribute 'grid'"
     ]
    },
    {
     "data": {
      "image/png": "[encoded data removed]",
      "text/plain": [
       "<Figure size 640x480 with 1 Axes>"
      ]
     },
     "metadata": {},
     "output_type": "display_data"
    }
   ],
   "source": [
    "\n",
    "df = df.iloc[:15]\n",
    "\n",
    "duration_array = []\n",
    "zcr_mean_array = []\n",
    "zcr_std_array = []\n",
    "mfcc_array = []\n",
    "chroma_cens_array = []\n",
    "centroid_mean_array = []\n",
    "centroid_std_array = []\n",
    "flux_mean_array = []\n",
    "flux_std_array = []\n",
    "rolloff_mean_array = []\n",
    "rolloff_std_array = []\n",
    "rate_array = [] \n",
    "from algorithms import plot_mfcc\n",
    "\n",
    "\n",
    "\n",
    "for audio in df['path']:\n",
    "    # Load audio files (wav) as amplitude and rate using \n",
    "    # Default rate: 22050\n",
    "    data ,rate = librosa.load(audio)\n",
    "    \n",
    "\n",
    "\n",
    "    # # Calculate zero crossing rate\n",
    "    # zcr = librosa.zero_crossings(data)\n",
    "\n",
    "    # # Calculate mean of zero crossing rate\n",
    "    # zcr_mean = np.mean(zcr)\n",
    "    # zcr_mean_array.append(zcr_mean) \n",
    "\n",
    "    # # Calculate standard deviation of zero crossing rate\n",
    "    # zcr_std = np.std(zcr)\n",
    "    # zcr_std_array.append(zcr_std) \n",
    "\n",
    "    # #  extract Mel-Frequency Cepstral Coefficients (MFCCs) from audio signal and compute mean on rows\n",
    "    mfcc = librosa.feature.mfcc(y=data, sr=rate, n_mfcc=50)\n",
    "    # mfcc_mean = np.mean(mfcc,axis=1)\n",
    "\n",
    "    # mfcc_array.append(mfcc_mean) \n",
    "   \n",
    "    # Extract Chroma cens feature\n",
    "    # chroma_cens = librosa.feature.chroma_stft(y=data, sr=rate)\n",
    "    # chroma_cens_mean = np.mean(chroma_cens,axis=1)\n",
    "    # chroma_cens_array.append(chroma_cens_mean)\n",
    "   \n",
    "    # Get duration by dividing number of columns in data by rate (Number of channels)\n",
    "    duration_array.append(data.shape[0] / rate)\n",
    "    \n",
    "    # Extract Spectral centroid\n",
    "    # centroid = librosa.feature.spectral_centroid(data, sr=rate)\n",
    "    # centroid_mean = np.mean(centroid)\n",
    "    # centroid_std = np.std(centroid)\n",
    "    # centroid_mean_array.append(centroid_mean)\n",
    "    # centroid_std_array.append(centroid_std)\n",
    "    \n",
    "\n",
    "    # Extract Spectral flux\n",
    "    # flux = librosa.onset.onset_strength(data, sr=rate)\n",
    "    # flux_mean = np.mean(flux)\n",
    "    # flux_std = np.std(flux)\n",
    "    # flux_mean_array.append(flux_mean)\n",
    "    # flux_std_array.append(flux_std)\n",
    "\n",
    "\n",
    "    # Extract Spectral roll-off\n",
    "    # rolloff = librosa.feature.spectral_rolloff(data, sr=rate)\n",
    "    # rolloff_mean = np.mean(rolloff)\n",
    "    # rolloff_std = np.std(rolloff)\n",
    "    # rolloff_mean_array.append(rolloff_mean)\n",
    "    # rolloff_std_array.append(rolloff_std)\n",
    "    plot_mfcc(audio)\n",
    "\n",
    "\n",
    "\n",
    " \n",
    "# df['rolloff_mean'] = rolloff_mean_array\n",
    "# df['rolloff_std'] = rolloff_std_array\n",
    "\n",
    "# df['flux_mean'] = flux_mean_array\n",
    "# df['flux_std'] = flux_std_array\n",
    "\n",
    "# df['centroid_mean'] = centroid_mean_array\n",
    "# df['centroid_std'] = centroid_std_array\n",
    "\n",
    "# df['zcr_mean'] = zcr_mean_array\n",
    "# df['zcr_std'] = zcr_std_array\n",
    "\n",
    "# df['duration'] = duration_array \n",
    "\n",
    "# df['mfcc'] = mfcc_array \n",
    "\n",
    "# df['chroma_cens'] = chroma_cens_array \n"
   ]
  },
  {
   "cell_type": "code",
   "execution_count": null,
   "metadata": {},
   "outputs": [],
   "source": [
    "df"
   ]
  },
  {
   "cell_type": "code",
   "execution_count": null,
   "metadata": {},
   "outputs": [],
   "source": [
    "df['rate'] = rate_array"
   ]
  },
  {
   "cell_type": "code",
   "execution_count": null,
   "metadata": {},
   "outputs": [],
   "source": [
    "df['rate'].value_counts()"
   ]
  },
  {
   "cell_type": "code",
   "execution_count": null,
   "metadata": {},
   "outputs": [],
   "source": [
    "max_index = df.loc[df['action-object'] == 'increase-volume', 'duration'].idxmax()\n",
    "min_index = df.loc[df['action-object'] == 'increase-volume', 'duration'].idxmin()\n",
    "\n",
    "max_value = df.loc[df['action-object'] == 'increase-volume', 'duration'].max()\n",
    "min_value = df.loc[df['action-object'] == 'increase-volume', 'duration'].min()\n",
    "\n",
    "\n",
    "print(min_index)\n",
    "print(max_index)\n",
    "\n",
    "print(min_value)\n",
    "print(max_value)\n",
    "\n",
    "# df.iloc[134]['path']\n",
    "\n"
   ]
  },
  {
   "cell_type": "code",
   "execution_count": null,
   "metadata": {},
   "outputs": [],
   "source": [
    "from algorithms import plot_frequency_db\n",
    "\n",
    "# minimum\n",
    "plot_frequency_db('dsl_data/audio/speakers/BvyakyrDmQfWEABb/165fd520-4609-11e9-bc65-55b32b211b66.wav')\n",
    "\n",
    "# maximum\n",
    "plot_frequency_db('dsl_data/audio/speakers/2ojo7YRL7Gck83Z3/1f4463b0-45df-11e9-81ce-69b74fd7e64e.wav')\n",
    "\n",
    "\n"
   ]
  },
  {
   "cell_type": "code",
   "execution_count": null,
   "metadata": {},
   "outputs": [],
   "source": [
    "from scipy.stats import skew, kurtosis\n",
    "\n",
    "df['mfcc_mean'] = df['mfcc'].apply(lambda x: np.mean(x))\n",
    "df['mfcc_min'] = df['mfcc'].apply(lambda x: np.min(x))\n",
    "df['mfcc_max'] = df['mfcc'].apply(lambda x: np.max(x))\n",
    "df['mfcc_skew'] = df['mfcc'].apply(lambda x: skew(x))\n",
    "df['mfcc_kurtosis'] = df['mfcc'].apply(lambda x: kurtosis(x))\n",
    "df['mfcc_std'] = df['mfcc'].apply(lambda x: np.std(x))\n"
   ]
  },
  {
   "cell_type": "code",
   "execution_count": null,
   "metadata": {},
   "outputs": [],
   "source": [
    "# extract the array column\n",
    "array_column = df['mfcc']\n",
    "\n",
    "# reshape the array to several columns\n",
    "array_column = array_column.apply(pd.Series)\n",
    "\n",
    "# rename the columns\n",
    "\n",
    "array_column.columns = [f'mfcc_{i}' for i in range(array_column.shape[1])]\n",
    "\n",
    "# join the new DataFrame with the original one\n",
    "df = pd.concat([df, array_column], axis=1)\n",
    "\n",
    "# drop the array column\n",
    "df = df.drop('mfcc', axis=1)"
   ]
  },
  {
   "cell_type": "code",
   "execution_count": null,
   "metadata": {},
   "outputs": [],
   "source": [
    "\n",
    "\n",
    "# extract the array column\n",
    "array_column = df['chroma_cens']\n",
    "\n",
    "# reshape the array to several columns\n",
    "array_column = array_column.apply(pd.Series)\n",
    "\n",
    "# rename the columns\n",
    "\n",
    "array_column.columns = [f'chroma_cens_{i}' for i in range(array_column.shape[1])]\n",
    "\n",
    "# join the new DataFrame with the original one\n",
    "df = pd.concat([df, array_column], axis=1)\n",
    "\n",
    "# drop the array column\n",
    "df = df.drop('chroma_cens', axis=1)\n"
   ]
  },
  {
   "cell_type": "code",
   "execution_count": null,
   "metadata": {},
   "outputs": [],
   "source": [
    "df.to_csv('file_name.csv')"
   ]
  },
  {
   "cell_type": "code",
   "execution_count": null,
   "metadata": {},
   "outputs": [],
   "source": [
    "# from sklearn.model_selection import learning_curve\n",
    "# from sklearn.svm import SVC\n",
    "# import matplotlib.pyplot as plt\n",
    "\n",
    "# # Create an instance of the SVM classifier\n",
    "# clf = SVC(kernel='linear')\n",
    "\n",
    "# # Generate the training and test sets\n",
    "# train_sizes, train_scores, test_scores = learning_curve(clf, x, y)\n",
    "\n",
    "# # Plot the learning curve\n",
    "# plt.figure()\n",
    "# plt.title(\"Learning Curve\")\n",
    "# plt.xlabel(\"Training Examples\")\n",
    "# plt.ylabel(\"Score\")\n",
    "# plt.grid()\n",
    "\n",
    "# train_scores_mean = np.mean(train_scores, axis=1)\n",
    "# train_scores_std = np.std(train_scores, axis=1)\n",
    "# test_scores_mean = np.mean(test_scores, axis=1)\n",
    "# test_scores_std = np.std(test_scores, axis=1)\n",
    "\n",
    "# plt.fill_between(train_sizes, train_scores_mean - train_scores_std,\n",
    "#                  train_scores_mean + train_scores_std, alpha=0.1,\n",
    "#                  color=\"r\")\n",
    "# plt.fill_between(train_sizes, test_scores_mean - test_scores_std,\n",
    "#                  test_scores_mean + test_scores_std, alpha=0.1, color=\"g\")\n",
    "# plt.plot(train_sizes, train_scores_mean, 'o-', color=\"r\",\n",
    "#          label=\"Training score\")\n",
    "# plt.plot(train_sizes, test_scores_mean, 'o-', color=\"g\",\n",
    "#          label=\"Cross-validation score\")\n",
    "\n",
    "# plt.legend(loc=\"best\")\n",
    "# plt.show()\n"
   ]
  },
  {
   "cell_type": "code",
   "execution_count": null,
   "metadata": {},
   "outputs": [],
   "source": [
    "from sklearn.model_selection import train_test_split\n",
    "\n",
    "\n",
    "\n",
    "static_features_array = ['Self-reported fluency level ','First Language spoken', 'gender', 'ageRange','mfcc_mean','mfcc_min','mfcc_max','mfcc_skew','mfcc_kurtosis','mfcc_std']\n",
    "# static_features_array = ['Self-reported fluency level ','First Language spoken', 'Current language used for work/school', 'gender', 'ageRange','zcr_mean','zcr_std','duration','centroid_std','flux_std','rolloff_mean']\n",
    "\n",
    "# dynamic_features_array = [f'mfcc_{x}' for x in range(50)]\n",
    "# dynamic_features_array2 = [f'chroma_cens_{x}' for x in range(12)]\n",
    "\n",
    "# dynamic_features_array = np.concatenate((dynamic_features_array1, dynamic_features_array2))\n",
    "\n",
    "# all_features_array = np.concatenate((static_features_array, dynamic_features_array))\n",
    "\n",
    "# x = df_copy[all_features_array]\n",
    "x = df[static_features_array].copy()\n",
    "y = df[['action-object']].copy()\n",
    "\n",
    "\n",
    "#train_test_split splits the data into 70% training data and 30% test data\n",
    "x_train, x_test, y_train, y_test = train_test_split(x, y,test_size = .3)"
   ]
  },
  {
   "cell_type": "code",
   "execution_count": null,
   "metadata": {},
   "outputs": [],
   "source": [
    "#Import Random Forest Model\n",
    "from sklearn.ensemble import RandomForestClassifier\n",
    "\n",
    "#Create a Classifier\n",
    "rf_clf=RandomForestClassifier(n_estimators=100)\n",
    "\n",
    "#Train the model using the training sets y_pred=clf.predict(X_test)\n",
    "rf_clf.fit(x_train,y_train)\n",
    "y_pred_rf=rf_clf.predict(x_test)\n",
    "\n",
    "\n",
    "from sklearn import metrics\n",
    "\n",
    "# Model Accuracy using test data (25%)\n",
    "print(\"Test set accuracy Random Forest:\",metrics.accuracy_score(y_test, y_pred_rf))"
   ]
  },
  {
   "cell_type": "code",
   "execution_count": null,
   "metadata": {},
   "outputs": [],
   "source": [
    "from sklearn.decomposition import PCA\n",
    "from sklearn.ensemble import RandomForestClassifier\n",
    "from sklearn.pipeline import Pipeline\n",
    "\n",
    "# Create a pipeline with a PCA step followed by a Random Forest classifier\n",
    "pipe = Pipeline([\n",
    "    ('pca', PCA(n_components=0.75)),\n",
    "    ('clf', RandomForestClassifier())\n",
    "])\n",
    "\n",
    "# Fit the pipeline to the training data\n",
    "pipe.fit(x_train,y_train)\n",
    "\n",
    "y_pred_rf=pipe.predict(x_test)\n",
    "print(\"Test set accuracy:\",metrics.accuracy_score(y_test, y_pred_rf))\n",
    "\n"
   ]
  },
  {
   "cell_type": "code",
   "execution_count": null,
   "metadata": {},
   "outputs": [],
   "source": [
    "# from sklearn import svm\n",
    "\n",
    "# svm_clf = svm.SVC(kernel='linear', C=1)\n",
    "# svm_clf.fit(x_train,y_train)\n",
    "# y_pred_svm=svm_clf.predict(x_test)\n"
   ]
  },
  {
   "cell_type": "code",
   "execution_count": null,
   "metadata": {},
   "outputs": [],
   "source": [
    "\n",
    "# from sklearn.tree import DecisionTreeClassifier\n",
    "# clf = DecisionTreeClassifier(max_depth = 10, min_impurity_decrease=0.01)\n",
    "# clf.fit(x_train, y_train)\n",
    "# y_pred = clf.predict(x_test)\n",
    "# y_pred"
   ]
  },
  {
   "cell_type": "code",
   "execution_count": null,
   "metadata": {},
   "outputs": [],
   "source": [
    "#Import scikit-learn metrics module for accuracy calculation\n",
    "from sklearn import metrics\n",
    "\n",
    "# Model Accuracy using test data (25%)\n",
    "print(\"Test set accuracy Random Forest:\",metrics.accuracy_score(y_test, y_pred_rf))\n",
    "print(\"Test set accuracy using SVM:\",metrics.accuracy_score(y_test, y_pred_svm))\n",
    "\n"
   ]
  },
  {
   "cell_type": "code",
   "execution_count": null,
   "metadata": {},
   "outputs": [],
   "source": [
    "# Storing the address in 'url' variable\n",
    "evaluation_path =   \"dsl_data/evaluation.csv\"\n",
    "\n",
    "# Importing the csv file from the address contained in 'url' into 'evaluation_df' \n",
    "evaluation_df = pd.read_csv(evaluation_path)\n",
    "\n",
    "\n",
    "\n",
    "# Check null values in Training dataset (pandas dataframe)\n",
    "evaluation_df.isnull().sum().sum()\n",
    "\n",
    "import encode_dict_data  \n",
    "\n",
    "# map features in evaluation_df to predefined dictionaries\n",
    "evaluation_df['gender'] = evaluation_df['gender'].map(encode_dict_data .gender_map)\n",
    "evaluation_df['Self-reported fluency level '] = evaluation_df['Self-reported fluency level '].map(encode_dict_data .language_fluency_map)\n",
    "evaluation_df['ageRange'] = evaluation_df['ageRange'].map(encode_dict_data .age_range_map)\n",
    "evaluation_df['Current language used for work/school'] = evaluation_df['Current language used for work/school'].map(encode_dict_data .current_language_map)\n",
    "evaluation_df['First Language spoken'] = evaluation_df['First Language spoken'].map(encode_dict_data .first_language_map)\n",
    "\n",
    "\n",
    "\n",
    "import librosa\n",
    "\n",
    "duration_array = []\n",
    "zcr_mean_array = []\n",
    "zcr_std_array = []\n",
    "mfcc_array = []\n",
    "chroma_cens_array = []\n",
    "centroid_mean_array = []\n",
    "centroid_std_array = []\n",
    "flux_mean_array = []\n",
    "flux_std_array = []\n",
    "rolloff_mean_array = []\n",
    "rolloff_std_array = []\n",
    "\n",
    "\n",
    "for audio in evaluation_df['path']:\n",
    "    # Load audio files (wav) as amplitude and rate using \n",
    "    # Default rate: 22050\n",
    "    data ,rate = librosa.load(audio)\n",
    "\n",
    "    # Calculate zero crossing rate\n",
    "    zcr = librosa.zero_crossings(data)\n",
    "\n",
    "    # Calculate mean of zero crossing rate\n",
    "    zcr_mean = np.mean(zcr)\n",
    "    zcr_mean_array.append(zcr_mean) \n",
    "\n",
    "    # Calculate standard deviation of zero crossing rate\n",
    "    zcr_std = np.std(zcr)\n",
    "    zcr_std_array.append(zcr_std) \n",
    "\n",
    "\n",
    "    #  Extract Mel-Frequency Cepstral Coefficients (MFCCs) from audio signal and compute mean on rows\n",
    "    mfcc = librosa.feature.mfcc(y=data, sr=rate, n_mfcc=50)\n",
    "    mfcc_mean = np.mean(mfcc,axis=1)\n",
    "    mfcc_array.append(mfcc_mean) \n",
    "\n",
    "    # Extract Chroma cens feature\n",
    "    chroma_cens = librosa.feature.chroma_cens(y=data, sr=rate)\n",
    "    chroma_cens_mean = np.mean(chroma_cens,axis=1)\n",
    "    chroma_cens_array.append(chroma_cens_mean)\n",
    "\n",
    "    # Get duration by dividing number of columns in data by rate (Number of channels)\n",
    "    duration_array.append(data.shape[0] / rate)\n",
    "\n",
    "    # Extract Spectral centroid\n",
    "    centroid = librosa.feature.spectral_centroid(data, sr=rate)\n",
    "    centroid_mean = np.mean(centroid)\n",
    "    centroid_std = np.std(centroid)\n",
    "    centroid_mean_array.append(centroid_mean)\n",
    "    centroid_std_array.append(centroid_std)\n",
    "    \n",
    "\n",
    "    # Extract Spectral flux\n",
    "    flux = librosa.onset.onset_strength(data, sr=rate)\n",
    "    flux_mean = np.mean(flux)\n",
    "    flux_std = np.std(flux)\n",
    "    flux_mean_array.append(flux_mean)\n",
    "    flux_std_array.append(flux_std)\n",
    "\n",
    "\n",
    "    # Extract Spectral roll-off\n",
    "    rolloff = librosa.feature.spectral_rolloff(data, sr=rate)\n",
    "    rolloff_mean = np.mean(rolloff)\n",
    "    rolloff_std = np.std(rolloff)\n",
    "    rolloff_mean_array.append(rolloff_mean)\n",
    "    rolloff_std_array.append(rolloff_std)\n",
    "\n",
    "\n",
    "evaluation_df['rolloff_mean'] = rolloff_mean_array\n",
    "evaluation_df['rolloff_std'] = rolloff_std_array\n",
    "\n",
    "evaluation_df['flux_mean'] = flux_mean_array\n",
    "evaluation_df['flux_std'] = flux_std_array\n",
    "\n",
    "evaluation_df['centroid_mean'] = centroid_mean_array\n",
    "evaluation_df['centroid_std'] = centroid_std_array\n",
    "\n",
    "evaluation_df['zcr_mean'] = zcr_mean_array\n",
    "evaluation_df['zcr_std'] = zcr_std_array\n",
    "\n",
    "evaluation_df['duration'] = duration_array \n",
    "\n",
    "evaluation_df['mfcc'] = mfcc_array \n",
    "\n",
    "evaluation_df['chroma_cens'] = chroma_cens_array \n",
    "\n",
    "\n",
    "\n"
   ]
  },
  {
   "cell_type": "code",
   "execution_count": null,
   "metadata": {},
   "outputs": [],
   "source": [
    "# extract the array column\n",
    "array_column = evaluation_df['mfcc']\n",
    "\n",
    "# reshape the array to several columns\n",
    "array_column = array_column.apply(pd.Series)\n",
    "\n",
    "# rename the columns\n",
    "\n",
    "array_column.columns = [f'mfcc_{i}' for i in range(array_column.shape[1])]\n",
    "\n",
    "# join the new DataFrame with the original one\n",
    "evaluation_df = pd.concat([evaluation_df, array_column], axis=1)\n",
    "\n",
    "# drop the array column\n",
    "evaluation_df = evaluation_df.drop('mfcc', axis=1)\n"
   ]
  },
  {
   "cell_type": "code",
   "execution_count": null,
   "metadata": {},
   "outputs": [],
   "source": [
    "\n",
    "# extract the array column\n",
    "array_column = evaluation_df['chroma_cens']\n",
    "\n",
    "# reshape the array to several columns\n",
    "array_column = array_column.apply(pd.Series)\n",
    "\n",
    "# rename the columns\n",
    "\n",
    "array_column.columns = [f'chroma_cens_{i}' for i in range(array_column.shape[1])]\n",
    "\n",
    "# join the new DataFrame with the original one\n",
    "evaluation_df = pd.concat([evaluation_df, array_column], axis=1)\n",
    "\n",
    "# drop the array column\n",
    "evaluation_df = evaluation_df.drop('chroma_cens', axis=1)\n"
   ]
  },
  {
   "cell_type": "code",
   "execution_count": null,
   "metadata": {},
   "outputs": [],
   "source": [
    "from scipy.stats import skew, kurtosis\n",
    "\n",
    "evaluation_df['mfcc_mean'] = evaluation_df['mfcc'].apply(lambda x: np.mean(x))\n",
    "evaluation_df['mfcc_min'] = evaluation_df['mfcc'].apply(lambda x: np.min(x))\n",
    "evaluation_df['mfcc_max'] = evaluation_df['mfcc'].apply(lambda x: np.max(x))\n",
    "evaluation_df['mfcc_skew'] = evaluation_df['mfcc'].apply(lambda x: skew(x))\n",
    "evaluation_df['mfcc_kurtosis'] = evaluation_df['mfcc'].apply(lambda x: kurtosis(x))\n",
    "evaluation_df['mfcc_std'] = evaluation_df['mfcc'].apply(lambda x: np.std(x))"
   ]
  },
  {
   "cell_type": "code",
   "execution_count": null,
   "metadata": {},
   "outputs": [],
   "source": [
    "evaluation_df.to_csv('file_name2.csv')\n"
   ]
  },
  {
   "cell_type": "code",
   "execution_count": null,
   "metadata": {},
   "outputs": [],
   "source": [
    "\n",
    "static_features_array = ['Self-reported fluency level ','First Language spoken', 'Current language used for work/school', 'gender', 'ageRange','mfcc_mean','mfcc_min','mfcc_max','mfcc_skew','mfcc_kurtosis','mfcc_std']\n",
    "\n",
    "# dynamic_features_array1 = [f'mfcc_{x}' for x in range(50)]\n",
    "# dynamic_features_array2 = [f'chroma_cens_{x}' for x in range(12)]\n",
    "# static_features_array = ['Self-reported fluency level ','First Language spoken', 'Current language used for work/school', 'gender', 'ageRange','zcr_mean','zcr_std','duration','centroid_std','centroid_mean','flux_mean','flux_std','rolloff_mean','rolloff_std']\n",
    "\n",
    "\n",
    "# dynamic_features_array = np.concatenate((dynamic_features_array1, dynamic_features_array2))\n",
    "\n",
    "\n",
    "# all_features_array = np.concatenate((static_features_array, dynamic_features_array))\n",
    "\n",
    "# x = df_copy[all_features_array]\n",
    "x_evaluation = evaluation_df[static_features_array].copy()"
   ]
  },
  {
   "cell_type": "code",
   "execution_count": null,
   "metadata": {},
   "outputs": [],
   "source": [
    "y_evaluation=rf_clf.predict(x_evaluation)\n",
    "\n",
    "y_evaluation = list(map(lambda s: s.replace(\"-\", \"\"), y_evaluation))\n",
    "\n",
    "y_evaluation_df = pd.DataFrame(y_evaluation, columns = ['Predicted'])\n",
    "y_evaluation_df.index.name = 'Id'\n"
   ]
  },
  {
   "cell_type": "code",
   "execution_count": null,
   "metadata": {},
   "outputs": [],
   "source": [
    "import time\n",
    "\n",
    "now = int(time.time())\n",
    "\n",
    "y_evaluation_df.to_csv(f'evaluation/predictions{now}.csv',index=True,header=True)\n"
   ]
  }
 ],
 "metadata": {
  "kernelspec": {
   "display_name": "venv",
   "language": "python",
   "name": "python3"
  },
  "language_info": {
   "codemirror_mode": {
    "name": "ipython",
    "version": 3
   },
   "file_extension": ".py",
   "mimetype": "text/x-python",
   "name": "python",
   "nbconvert_exporter": "python",
   "pygments_lexer": "ipython3",
   "version": "3.10.2 (tags/v3.10.2:a58ebcc, Jan 17 2022, 14:12:15) [MSC v.1929 64 bit (AMD64)]"
  },
  "orig_nbformat": 4,
  "vscode": {
   "interpreter": {
    "hash": "d632ece9ffddb0af8003b7fd18727f76c563889d1c26c69682c14ed7f3fb0566"
   }
  }
 },
 "nbformat": 4,
 "nbformat_minor": 2
}
