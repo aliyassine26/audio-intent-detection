{
 "cells": [
  {
   "cell_type": "code",
   "execution_count": 2,
   "metadata": {},
   "outputs": [],
   "source": [
    "import numpy as np\n",
    "import pandas as pd\n",
    "from scipy.io.wavfile import read \n",
    "import os"
   ]
  },
  {
   "cell_type": "code",
   "execution_count": 3,
   "metadata": {},
   "outputs": [
    {
     "data": {
      "text/html": [
       "<div>\n",
       "<style scoped>\n",
       "    .dataframe tbody tr th:only-of-type {\n",
       "        vertical-align: middle;\n",
       "    }\n",
       "\n",
       "    .dataframe tbody tr th {\n",
       "        vertical-align: top;\n",
       "    }\n",
       "\n",
       "    .dataframe thead th {\n",
       "        text-align: right;\n",
       "    }\n",
       "</style>\n",
       "<table border=\"1\" class=\"dataframe\">\n",
       "  <thead>\n",
       "    <tr style=\"text-align: right;\">\n",
       "      <th></th>\n",
       "      <th>Id</th>\n",
       "      <th>path</th>\n",
       "      <th>speakerId</th>\n",
       "      <th>action</th>\n",
       "      <th>object</th>\n",
       "      <th>Self-reported fluency level</th>\n",
       "      <th>First Language spoken</th>\n",
       "      <th>Current language used for work/school</th>\n",
       "      <th>gender</th>\n",
       "      <th>ageRange</th>\n",
       "    </tr>\n",
       "  </thead>\n",
       "  <tbody>\n",
       "    <tr>\n",
       "      <th>0</th>\n",
       "      <td>0</td>\n",
       "      <td>dsl_data/audio/speakers/2BqVo8kVB2Skwgyb/0a312...</td>\n",
       "      <td>2BqVo8kVB2Skwgyb</td>\n",
       "      <td>change language</td>\n",
       "      <td>none</td>\n",
       "      <td>advanced</td>\n",
       "      <td>English (United States)</td>\n",
       "      <td>English (United States)</td>\n",
       "      <td>female</td>\n",
       "      <td>22-40</td>\n",
       "    </tr>\n",
       "    <tr>\n",
       "      <th>1</th>\n",
       "      <td>1</td>\n",
       "      <td>dsl_data/audio/speakers/2BqVo8kVB2Skwgyb/0ee42...</td>\n",
       "      <td>2BqVo8kVB2Skwgyb</td>\n",
       "      <td>activate</td>\n",
       "      <td>music</td>\n",
       "      <td>advanced</td>\n",
       "      <td>English (United States)</td>\n",
       "      <td>English (United States)</td>\n",
       "      <td>female</td>\n",
       "      <td>22-40</td>\n",
       "    </tr>\n",
       "    <tr>\n",
       "      <th>2</th>\n",
       "      <td>2</td>\n",
       "      <td>dsl_data/audio/speakers/2BqVo8kVB2Skwgyb/1d9f3...</td>\n",
       "      <td>2BqVo8kVB2Skwgyb</td>\n",
       "      <td>deactivate</td>\n",
       "      <td>lights</td>\n",
       "      <td>advanced</td>\n",
       "      <td>English (United States)</td>\n",
       "      <td>English (United States)</td>\n",
       "      <td>female</td>\n",
       "      <td>22-40</td>\n",
       "    </tr>\n",
       "    <tr>\n",
       "      <th>3</th>\n",
       "      <td>3</td>\n",
       "      <td>dsl_data/audio/speakers/2BqVo8kVB2Skwgyb/269fc...</td>\n",
       "      <td>2BqVo8kVB2Skwgyb</td>\n",
       "      <td>increase</td>\n",
       "      <td>volume</td>\n",
       "      <td>advanced</td>\n",
       "      <td>English (United States)</td>\n",
       "      <td>English (United States)</td>\n",
       "      <td>female</td>\n",
       "      <td>22-40</td>\n",
       "    </tr>\n",
       "    <tr>\n",
       "      <th>4</th>\n",
       "      <td>4</td>\n",
       "      <td>dsl_data/audio/speakers/2BqVo8kVB2Skwgyb/5bbda...</td>\n",
       "      <td>2BqVo8kVB2Skwgyb</td>\n",
       "      <td>increase</td>\n",
       "      <td>volume</td>\n",
       "      <td>advanced</td>\n",
       "      <td>English (United States)</td>\n",
       "      <td>English (United States)</td>\n",
       "      <td>female</td>\n",
       "      <td>22-40</td>\n",
       "    </tr>\n",
       "    <tr>\n",
       "      <th>...</th>\n",
       "      <td>...</td>\n",
       "      <td>...</td>\n",
       "      <td>...</td>\n",
       "      <td>...</td>\n",
       "      <td>...</td>\n",
       "      <td>...</td>\n",
       "      <td>...</td>\n",
       "      <td>...</td>\n",
       "      <td>...</td>\n",
       "      <td>...</td>\n",
       "    </tr>\n",
       "    <tr>\n",
       "      <th>9849</th>\n",
       "      <td>9849</td>\n",
       "      <td>dsl_data/audio/speakers/vnljypgejkINbBAY/4fb3d...</td>\n",
       "      <td>vnljypgejkINbBAY</td>\n",
       "      <td>decrease</td>\n",
       "      <td>volume</td>\n",
       "      <td>native</td>\n",
       "      <td>English (United States)</td>\n",
       "      <td>English (United States)</td>\n",
       "      <td>male</td>\n",
       "      <td>22-40</td>\n",
       "    </tr>\n",
       "    <tr>\n",
       "      <th>9850</th>\n",
       "      <td>9850</td>\n",
       "      <td>dsl_data/audio/speakers/vnljypgejkINbBAY/59e6a...</td>\n",
       "      <td>vnljypgejkINbBAY</td>\n",
       "      <td>deactivate</td>\n",
       "      <td>lights</td>\n",
       "      <td>native</td>\n",
       "      <td>English (United States)</td>\n",
       "      <td>English (United States)</td>\n",
       "      <td>male</td>\n",
       "      <td>22-40</td>\n",
       "    </tr>\n",
       "    <tr>\n",
       "      <th>9851</th>\n",
       "      <td>9851</td>\n",
       "      <td>dsl_data/audio/speakers/vnljypgejkINbBAY/5c81c...</td>\n",
       "      <td>vnljypgejkINbBAY</td>\n",
       "      <td>deactivate</td>\n",
       "      <td>lights</td>\n",
       "      <td>native</td>\n",
       "      <td>English (United States)</td>\n",
       "      <td>English (United States)</td>\n",
       "      <td>male</td>\n",
       "      <td>22-40</td>\n",
       "    </tr>\n",
       "    <tr>\n",
       "      <th>9852</th>\n",
       "      <td>9852</td>\n",
       "      <td>dsl_data/audio/speakers/vnljypgejkINbBAY/5ef42...</td>\n",
       "      <td>vnljypgejkINbBAY</td>\n",
       "      <td>deactivate</td>\n",
       "      <td>lights</td>\n",
       "      <td>native</td>\n",
       "      <td>English (United States)</td>\n",
       "      <td>English (United States)</td>\n",
       "      <td>male</td>\n",
       "      <td>22-40</td>\n",
       "    </tr>\n",
       "    <tr>\n",
       "      <th>9853</th>\n",
       "      <td>9853</td>\n",
       "      <td>dsl_data/audio/speakers/vnljypgejkINbBAY/61b7a...</td>\n",
       "      <td>vnljypgejkINbBAY</td>\n",
       "      <td>increase</td>\n",
       "      <td>volume</td>\n",
       "      <td>native</td>\n",
       "      <td>English (United States)</td>\n",
       "      <td>English (United States)</td>\n",
       "      <td>male</td>\n",
       "      <td>22-40</td>\n",
       "    </tr>\n",
       "  </tbody>\n",
       "</table>\n",
       "<p>9854 rows × 10 columns</p>\n",
       "</div>"
      ],
      "text/plain": [
       "        Id                                               path  \\\n",
       "0        0  dsl_data/audio/speakers/2BqVo8kVB2Skwgyb/0a312...   \n",
       "1        1  dsl_data/audio/speakers/2BqVo8kVB2Skwgyb/0ee42...   \n",
       "2        2  dsl_data/audio/speakers/2BqVo8kVB2Skwgyb/1d9f3...   \n",
       "3        3  dsl_data/audio/speakers/2BqVo8kVB2Skwgyb/269fc...   \n",
       "4        4  dsl_data/audio/speakers/2BqVo8kVB2Skwgyb/5bbda...   \n",
       "...    ...                                                ...   \n",
       "9849  9849  dsl_data/audio/speakers/vnljypgejkINbBAY/4fb3d...   \n",
       "9850  9850  dsl_data/audio/speakers/vnljypgejkINbBAY/59e6a...   \n",
       "9851  9851  dsl_data/audio/speakers/vnljypgejkINbBAY/5c81c...   \n",
       "9852  9852  dsl_data/audio/speakers/vnljypgejkINbBAY/5ef42...   \n",
       "9853  9853  dsl_data/audio/speakers/vnljypgejkINbBAY/61b7a...   \n",
       "\n",
       "             speakerId           action  object Self-reported fluency level   \\\n",
       "0     2BqVo8kVB2Skwgyb  change language    none                     advanced   \n",
       "1     2BqVo8kVB2Skwgyb         activate   music                     advanced   \n",
       "2     2BqVo8kVB2Skwgyb       deactivate  lights                     advanced   \n",
       "3     2BqVo8kVB2Skwgyb         increase  volume                     advanced   \n",
       "4     2BqVo8kVB2Skwgyb         increase  volume                     advanced   \n",
       "...                ...              ...     ...                          ...   \n",
       "9849  vnljypgejkINbBAY         decrease  volume                       native   \n",
       "9850  vnljypgejkINbBAY       deactivate  lights                       native   \n",
       "9851  vnljypgejkINbBAY       deactivate  lights                       native   \n",
       "9852  vnljypgejkINbBAY       deactivate  lights                       native   \n",
       "9853  vnljypgejkINbBAY         increase  volume                       native   \n",
       "\n",
       "        First Language spoken Current language used for work/school  gender  \\\n",
       "0     English (United States)               English (United States)  female   \n",
       "1     English (United States)               English (United States)  female   \n",
       "2     English (United States)               English (United States)  female   \n",
       "3     English (United States)               English (United States)  female   \n",
       "4     English (United States)               English (United States)  female   \n",
       "...                       ...                                   ...     ...   \n",
       "9849  English (United States)               English (United States)    male   \n",
       "9850  English (United States)               English (United States)    male   \n",
       "9851  English (United States)               English (United States)    male   \n",
       "9852  English (United States)               English (United States)    male   \n",
       "9853  English (United States)               English (United States)    male   \n",
       "\n",
       "     ageRange  \n",
       "0       22-40  \n",
       "1       22-40  \n",
       "2       22-40  \n",
       "3       22-40  \n",
       "4       22-40  \n",
       "...       ...  \n",
       "9849    22-40  \n",
       "9850    22-40  \n",
       "9851    22-40  \n",
       "9852    22-40  \n",
       "9853    22-40  \n",
       "\n",
       "[9854 rows x 10 columns]"
      ]
     },
     "execution_count": 3,
     "metadata": {},
     "output_type": "execute_result"
    }
   ],
   "source": [
    "# Storing the address in 'url' variable\n",
    "data_path =   \"dsl_data/development.csv\"\n",
    "# Importing the file from the address contained in 'url' into 'df' \n",
    "df = pd.read_csv(data_path)\n",
    "df"
   ]
  },
  {
   "cell_type": "code",
   "execution_count": 4,
   "metadata": {},
   "outputs": [
    {
     "data": {
      "text/plain": [
       "0"
      ]
     },
     "execution_count": 4,
     "metadata": {},
     "output_type": "execute_result"
    }
   ],
   "source": [
    "# Check null values in Training dataset (pandas dataframe)\n",
    "df.isnull().sum().sum()"
   ]
  },
  {
   "cell_type": "code",
   "execution_count": 5,
   "metadata": {},
   "outputs": [],
   "source": [
    "# df = df.iloc[:100] "
   ]
  },
  {
   "cell_type": "code",
   "execution_count": 6,
   "metadata": {},
   "outputs": [
    {
     "data": {
      "text/plain": [
       "array(['change language', 'activate', 'deactivate', 'increase',\n",
       "       'decrease'], dtype=object)"
      ]
     },
     "execution_count": 6,
     "metadata": {},
     "output_type": "execute_result"
    }
   ],
   "source": [
    "# To get unique values in order to map values to objects imported from src/data.py\n",
    "\n",
    "df['object'].unique()\n",
    "df['action'].unique()\n"
   ]
  },
  {
   "cell_type": "code",
   "execution_count": 7,
   "metadata": {},
   "outputs": [],
   "source": [
    "import dict_data \n",
    "\n",
    "df['gender'] = df['gender'].map(dict_data.gender_map)\n",
    "df['Self-reported fluency level '] = df['Self-reported fluency level '].map(dict_data.language_fluency_map)\n",
    "df['ageRange'] = df['ageRange'].map(dict_data.age_range_map)\n",
    "df['Current language used for work/school'] = df['Current language used for work/school'].map(dict_data.current_language_map)\n",
    "df['First Language spoken'] = df['First Language spoken'].map(dict_data.first_language_map)\n",
    "\n",
    "\n",
    "# Try to combine action & object in 1 column\n",
    "df[\"action-object\"] = df['action'].astype(str) +\"-\"+ df[\"object\"]\n"
   ]
  },
  {
   "cell_type": "code",
   "execution_count": 8,
   "metadata": {},
   "outputs": [],
   "source": [
    "path = os.getcwd() + \"/\"\n",
    "audios_array = []\n",
    "for audio in df['path']:\n",
    "    temp_rate, temp_data = read(audio, mmap=False)   \n",
    "    temp_data = np.mean(temp_data) \n",
    "    audios_array.append(temp_data)\n",
    "\n",
    "df['audio'] = audios_array    "
   ]
  },
  {
   "cell_type": "code",
   "execution_count": 9,
   "metadata": {},
   "outputs": [],
   "source": [
    "from sklearn.model_selection import train_test_split\n",
    "\n",
    "x = df[['Self-reported fluency level ','First Language spoken', 'Current language used for work/school', 'gender', 'ageRange','audio']].copy()\n",
    "y = df[['action-object']].copy()\n",
    "\n",
    "\n",
    "#train_test_split splits the data into 75% training data and 25% test data\n",
    "x_train, x_test, y_train, y_test = train_test_split(x, y)"
   ]
  },
  {
   "cell_type": "code",
   "execution_count": 10,
   "metadata": {},
   "outputs": [
    {
     "name": "stdout",
     "output_type": "stream",
     "text": [
      "FIT\n"
     ]
    },
    {
     "data": {
      "text/plain": [
       "array(['change language-none', 'increase-volume', 'decrease-volume', ...,\n",
       "       'deactivate-lights', 'increase-volume', 'increase-heat'],\n",
       "      dtype=object)"
      ]
     },
     "execution_count": 10,
     "metadata": {},
     "output_type": "execute_result"
    }
   ],
   "source": [
    "#Import Random Forest Model\n",
    "from sklearn.ensemble import RandomForestClassifier\n",
    "\n",
    "#Create a Classifier\n",
    "clf=RandomForestClassifier(n_estimators=100)\n",
    "\n",
    "#Train the model using the training sets y_pred=clf.predict(X_test)\n",
    "clf.fit(x_train,y_train.values.ravel())\n",
    "print(\"FIT\")\n",
    "y_pred=clf.predict(x_test)\n",
    "\n",
    "y_pred"
   ]
  },
  {
   "cell_type": "code",
   "execution_count": 11,
   "metadata": {},
   "outputs": [],
   "source": [
    "# from sklearn import svm\n",
    "\n",
    "# clf = svm.SVC()\n",
    "# clf.fit(x_train,y_train)\n",
    "# y_pred=clf.predict(x_test)\n",
    "# y_pred\n"
   ]
  },
  {
   "cell_type": "code",
   "execution_count": 12,
   "metadata": {},
   "outputs": [],
   "source": [
    "\n",
    "# from sklearn.tree import DecisionTreeClassifier\n",
    "# clf = DecisionTreeClassifier(max_depth = 10, min_impurity_decrease=0.01)\n",
    "# clf.fit(x_train, y_train)\n",
    "# y_pred = clf.predict(x_test)\n",
    "# y_pred"
   ]
  },
  {
   "cell_type": "code",
   "execution_count": 13,
   "metadata": {},
   "outputs": [
    {
     "name": "stdout",
     "output_type": "stream",
     "text": [
      "Test set accuracy: 0.18506493506493507\n"
     ]
    }
   ],
   "source": [
    "#Import scikit-learn metrics module for accuracy calculation\n",
    "from sklearn import metrics\n",
    "\n",
    "# Model Accuracy using test data (25%)\n",
    "print(\"Test set accuracy:\",metrics.accuracy_score(y_test, y_pred))"
   ]
  },
  {
   "cell_type": "code",
   "execution_count": 14,
   "metadata": {},
   "outputs": [],
   "source": [
    "# Storing the address in 'url' variable\n",
    "evaluation_path =   \"dsl_data/evaluation.csv\"\n",
    "\n",
    "# Importing the csv file from the address contained in 'url' into 'evaluation_df' \n",
    "evaluation_df = pd.read_csv(evaluation_path)\n",
    "\n",
    "# Check null values in Training dataset (pandas dataframe)\n",
    "evaluation_df.isnull().sum().sum()\n",
    "\n",
    "import dict_data \n",
    "\n",
    "# map features in evaluation_df to predefined dictionaries\n",
    "evaluation_df['gender'] = evaluation_df['gender'].map(dict_data.gender_map)\n",
    "evaluation_df['Self-reported fluency level '] = evaluation_df['Self-reported fluency level '].map(dict_data.language_fluency_map)\n",
    "evaluation_df['ageRange'] = evaluation_df['ageRange'].map(dict_data.age_range_map)\n",
    "evaluation_df['Current language used for work/school'] = evaluation_df['Current language used for work/school'].map(dict_data.current_language_map)\n",
    "evaluation_df['First Language spoken'] = evaluation_df['First Language spoken'].map(dict_data.first_language_map)\n",
    "\n",
    "\n",
    "# Get audio file for each instance into an array\n",
    "path = os.getcwd() + \"/\"\n",
    "audios_array = []\n",
    "for audio in evaluation_df['path']:\n",
    "    temp_rate, temp_data = read(audio, mmap=False)   \n",
    "    temp_data = np.mean(temp_data) \n",
    "    audios_array.append(temp_data)\n",
    "\n",
    "# Save array as a new column in our evaluation dataframe\n",
    "evaluation_df['audio'] = audios_array\n",
    "\n",
    "x_evaluation = evaluation_df[['Self-reported fluency level ','First Language spoken', 'Current language used for work/school', 'gender', 'ageRange', 'audio']].copy()\n",
    "\n"
   ]
  },
  {
   "cell_type": "code",
   "execution_count": 15,
   "metadata": {},
   "outputs": [],
   "source": [
    "y_evaluation=clf.predict(x_evaluation)\n",
    "\n",
    "for element in y_evaluation:\n",
    "    element = element.replace(\"none\", \"\")\n",
    "    element = element.replace(\"-\", \"\")\n",
    "\n",
    "remove_dash = list(map(lambda s: s.replace(\"-\", \"\"), y_evaluation))\n",
    "modified_y_evaluation = list(map(lambda s: s.replace(\"none\", \"\"), remove_dash))\n",
    "\n",
    "# print map(lambda s: s.replace('-' , 'n'), y_evaluation)\n",
    "\n",
    "\n",
    "\n",
    "y_evaluation_df = pd.DataFrame(modified_y_evaluation, columns = ['Predicted'])\n",
    "y_evaluation_df\n",
    "y_evaluation_df.index.name = 'Id'\n",
    "\n",
    "y_evaluation_df.to_csv('evaluation/predictions.csv',index=True,header=True)"
   ]
  }
 ],
 "metadata": {
  "kernelspec": {
   "display_name": "Python 3.10.2 64-bit",
   "language": "python",
   "name": "python3"
  },
  "language_info": {
   "codemirror_mode": {
    "name": "ipython",
    "version": 3
   },
   "file_extension": ".py",
   "mimetype": "text/x-python",
   "name": "python",
   "nbconvert_exporter": "python",
   "pygments_lexer": "ipython3",
   "version": "3.10.2"
  },
  "orig_nbformat": 4,
  "vscode": {
   "interpreter": {
    "hash": "5a6207722f3be5c8aeec7a028becc5489fbd28a1705747404dde5b96b7146bf2"
   }
  }
 },
 "nbformat": 4,
 "nbformat_minor": 2
}
